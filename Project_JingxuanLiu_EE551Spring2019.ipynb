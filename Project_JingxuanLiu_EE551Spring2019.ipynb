{
 "cells": [
  {
   "cell_type": "code",
   "execution_count": 1,
   "metadata": {},
   "outputs": [],
   "source": [
    "import numpy as np\n",
    "import pandas as pd\n",
    "from IPython.display import display\n",
    "import matplotlib.pyplot as plt\n",
    "import seaborn as sns"
   ]
  },
  {
   "cell_type": "code",
   "execution_count": 2,
   "metadata": {},
   "outputs": [
    {
     "data": {
      "text/html": [
       "<div>\n",
       "<style scoped>\n",
       "    .dataframe tbody tr th:only-of-type {\n",
       "        vertical-align: middle;\n",
       "    }\n",
       "\n",
       "    .dataframe tbody tr th {\n",
       "        vertical-align: top;\n",
       "    }\n",
       "\n",
       "    .dataframe thead th {\n",
       "        text-align: right;\n",
       "    }\n",
       "</style>\n",
       "<table border=\"1\" class=\"dataframe\">\n",
       "  <thead>\n",
       "    <tr style=\"text-align: right;\">\n",
       "      <th></th>\n",
       "      <th>PassengerId</th>\n",
       "      <th>Survived</th>\n",
       "      <th>Pclass</th>\n",
       "      <th>Name</th>\n",
       "      <th>Sex</th>\n",
       "      <th>Age</th>\n",
       "      <th>SibSp</th>\n",
       "      <th>Parch</th>\n",
       "      <th>Ticket</th>\n",
       "      <th>Fare</th>\n",
       "      <th>Cabin</th>\n",
       "      <th>Embarked</th>\n",
       "    </tr>\n",
       "  </thead>\n",
       "  <tbody>\n",
       "    <tr>\n",
       "      <th>0</th>\n",
       "      <td>1</td>\n",
       "      <td>0</td>\n",
       "      <td>3</td>\n",
       "      <td>Braund, Mr. Owen Harris</td>\n",
       "      <td>male</td>\n",
       "      <td>22.0</td>\n",
       "      <td>1</td>\n",
       "      <td>0</td>\n",
       "      <td>A/5 21171</td>\n",
       "      <td>7.2500</td>\n",
       "      <td>NaN</td>\n",
       "      <td>S</td>\n",
       "    </tr>\n",
       "    <tr>\n",
       "      <th>1</th>\n",
       "      <td>2</td>\n",
       "      <td>1</td>\n",
       "      <td>1</td>\n",
       "      <td>Cumings, Mrs. John Bradley (Florence Briggs Th...</td>\n",
       "      <td>female</td>\n",
       "      <td>38.0</td>\n",
       "      <td>1</td>\n",
       "      <td>0</td>\n",
       "      <td>PC 17599</td>\n",
       "      <td>71.2833</td>\n",
       "      <td>C85</td>\n",
       "      <td>C</td>\n",
       "    </tr>\n",
       "    <tr>\n",
       "      <th>2</th>\n",
       "      <td>3</td>\n",
       "      <td>1</td>\n",
       "      <td>3</td>\n",
       "      <td>Heikkinen, Miss. Laina</td>\n",
       "      <td>female</td>\n",
       "      <td>26.0</td>\n",
       "      <td>0</td>\n",
       "      <td>0</td>\n",
       "      <td>STON/O2. 3101282</td>\n",
       "      <td>7.9250</td>\n",
       "      <td>NaN</td>\n",
       "      <td>S</td>\n",
       "    </tr>\n",
       "    <tr>\n",
       "      <th>3</th>\n",
       "      <td>4</td>\n",
       "      <td>1</td>\n",
       "      <td>1</td>\n",
       "      <td>Futrelle, Mrs. Jacques Heath (Lily May Peel)</td>\n",
       "      <td>female</td>\n",
       "      <td>35.0</td>\n",
       "      <td>1</td>\n",
       "      <td>0</td>\n",
       "      <td>113803</td>\n",
       "      <td>53.1000</td>\n",
       "      <td>C123</td>\n",
       "      <td>S</td>\n",
       "    </tr>\n",
       "    <tr>\n",
       "      <th>4</th>\n",
       "      <td>5</td>\n",
       "      <td>0</td>\n",
       "      <td>3</td>\n",
       "      <td>Allen, Mr. William Henry</td>\n",
       "      <td>male</td>\n",
       "      <td>35.0</td>\n",
       "      <td>0</td>\n",
       "      <td>0</td>\n",
       "      <td>373450</td>\n",
       "      <td>8.0500</td>\n",
       "      <td>NaN</td>\n",
       "      <td>S</td>\n",
       "    </tr>\n",
       "  </tbody>\n",
       "</table>\n",
       "</div>"
      ],
      "text/plain": [
       "   PassengerId  Survived  Pclass  \\\n",
       "0            1         0       3   \n",
       "1            2         1       1   \n",
       "2            3         1       3   \n",
       "3            4         1       1   \n",
       "4            5         0       3   \n",
       "\n",
       "                                                Name     Sex   Age  SibSp  \\\n",
       "0                            Braund, Mr. Owen Harris    male  22.0      1   \n",
       "1  Cumings, Mrs. John Bradley (Florence Briggs Th...  female  38.0      1   \n",
       "2                             Heikkinen, Miss. Laina  female  26.0      0   \n",
       "3       Futrelle, Mrs. Jacques Heath (Lily May Peel)  female  35.0      1   \n",
       "4                           Allen, Mr. William Henry    male  35.0      0   \n",
       "\n",
       "   Parch            Ticket     Fare Cabin Embarked  \n",
       "0      0         A/5 21171   7.2500   NaN        S  \n",
       "1      0          PC 17599  71.2833   C85        C  \n",
       "2      0  STON/O2. 3101282   7.9250   NaN        S  \n",
       "3      0            113803  53.1000  C123        S  \n",
       "4      0            373450   8.0500   NaN        S  "
      ]
     },
     "metadata": {},
     "output_type": "display_data"
    },
    {
     "data": {
      "text/html": [
       "<div>\n",
       "<style scoped>\n",
       "    .dataframe tbody tr th:only-of-type {\n",
       "        vertical-align: middle;\n",
       "    }\n",
       "\n",
       "    .dataframe tbody tr th {\n",
       "        vertical-align: top;\n",
       "    }\n",
       "\n",
       "    .dataframe thead th {\n",
       "        text-align: right;\n",
       "    }\n",
       "</style>\n",
       "<table border=\"1\" class=\"dataframe\">\n",
       "  <thead>\n",
       "    <tr style=\"text-align: right;\">\n",
       "      <th></th>\n",
       "      <th>PassengerId</th>\n",
       "      <th>Pclass</th>\n",
       "      <th>Name</th>\n",
       "      <th>Sex</th>\n",
       "      <th>Age</th>\n",
       "      <th>SibSp</th>\n",
       "      <th>Parch</th>\n",
       "      <th>Ticket</th>\n",
       "      <th>Fare</th>\n",
       "      <th>Cabin</th>\n",
       "      <th>Embarked</th>\n",
       "    </tr>\n",
       "  </thead>\n",
       "  <tbody>\n",
       "    <tr>\n",
       "      <th>0</th>\n",
       "      <td>892</td>\n",
       "      <td>3</td>\n",
       "      <td>Kelly, Mr. James</td>\n",
       "      <td>male</td>\n",
       "      <td>34.5</td>\n",
       "      <td>0</td>\n",
       "      <td>0</td>\n",
       "      <td>330911</td>\n",
       "      <td>7.8292</td>\n",
       "      <td>NaN</td>\n",
       "      <td>Q</td>\n",
       "    </tr>\n",
       "    <tr>\n",
       "      <th>1</th>\n",
       "      <td>893</td>\n",
       "      <td>3</td>\n",
       "      <td>Wilkes, Mrs. James (Ellen Needs)</td>\n",
       "      <td>female</td>\n",
       "      <td>47.0</td>\n",
       "      <td>1</td>\n",
       "      <td>0</td>\n",
       "      <td>363272</td>\n",
       "      <td>7.0000</td>\n",
       "      <td>NaN</td>\n",
       "      <td>S</td>\n",
       "    </tr>\n",
       "    <tr>\n",
       "      <th>2</th>\n",
       "      <td>894</td>\n",
       "      <td>2</td>\n",
       "      <td>Myles, Mr. Thomas Francis</td>\n",
       "      <td>male</td>\n",
       "      <td>62.0</td>\n",
       "      <td>0</td>\n",
       "      <td>0</td>\n",
       "      <td>240276</td>\n",
       "      <td>9.6875</td>\n",
       "      <td>NaN</td>\n",
       "      <td>Q</td>\n",
       "    </tr>\n",
       "    <tr>\n",
       "      <th>3</th>\n",
       "      <td>895</td>\n",
       "      <td>3</td>\n",
       "      <td>Wirz, Mr. Albert</td>\n",
       "      <td>male</td>\n",
       "      <td>27.0</td>\n",
       "      <td>0</td>\n",
       "      <td>0</td>\n",
       "      <td>315154</td>\n",
       "      <td>8.6625</td>\n",
       "      <td>NaN</td>\n",
       "      <td>S</td>\n",
       "    </tr>\n",
       "    <tr>\n",
       "      <th>4</th>\n",
       "      <td>896</td>\n",
       "      <td>3</td>\n",
       "      <td>Hirvonen, Mrs. Alexander (Helga E Lindqvist)</td>\n",
       "      <td>female</td>\n",
       "      <td>22.0</td>\n",
       "      <td>1</td>\n",
       "      <td>1</td>\n",
       "      <td>3101298</td>\n",
       "      <td>12.2875</td>\n",
       "      <td>NaN</td>\n",
       "      <td>S</td>\n",
       "    </tr>\n",
       "  </tbody>\n",
       "</table>\n",
       "</div>"
      ],
      "text/plain": [
       "   PassengerId  Pclass                                          Name     Sex  \\\n",
       "0          892       3                              Kelly, Mr. James    male   \n",
       "1          893       3              Wilkes, Mrs. James (Ellen Needs)  female   \n",
       "2          894       2                     Myles, Mr. Thomas Francis    male   \n",
       "3          895       3                              Wirz, Mr. Albert    male   \n",
       "4          896       3  Hirvonen, Mrs. Alexander (Helga E Lindqvist)  female   \n",
       "\n",
       "    Age  SibSp  Parch   Ticket     Fare Cabin Embarked  \n",
       "0  34.5      0      0   330911   7.8292   NaN        Q  \n",
       "1  47.0      1      0   363272   7.0000   NaN        S  \n",
       "2  62.0      0      0   240276   9.6875   NaN        Q  \n",
       "3  27.0      0      0   315154   8.6625   NaN        S  \n",
       "4  22.0      1      1  3101298  12.2875   NaN        S  "
      ]
     },
     "metadata": {},
     "output_type": "display_data"
    }
   ],
   "source": [
    "#Import and display the first five rows of training data and test data\n",
    "trainData = pd.read_csv('train.csv')\n",
    "testData = pd.read_csv('test.csv')\n",
    "display(trainData.head(),testData.head())"
   ]
  },
  {
   "cell_type": "code",
   "execution_count": 3,
   "metadata": {},
   "outputs": [
    {
     "name": "stdout",
     "output_type": "stream",
     "text": [
      "<class 'pandas.core.frame.DataFrame'>\n",
      "RangeIndex: 891 entries, 0 to 890\n",
      "Data columns (total 12 columns):\n",
      "PassengerId    891 non-null int64\n",
      "Survived       891 non-null int64\n",
      "Pclass         891 non-null int64\n",
      "Name           891 non-null object\n",
      "Sex            891 non-null object\n",
      "Age            714 non-null float64\n",
      "SibSp          891 non-null int64\n",
      "Parch          891 non-null int64\n",
      "Ticket         891 non-null object\n",
      "Fare           891 non-null float64\n",
      "Cabin          204 non-null object\n",
      "Embarked       889 non-null object\n",
      "dtypes: float64(2), int64(5), object(5)\n",
      "memory usage: 83.6+ KB\n",
      "<class 'pandas.core.frame.DataFrame'>\n",
      "RangeIndex: 418 entries, 0 to 417\n",
      "Data columns (total 11 columns):\n",
      "PassengerId    418 non-null int64\n",
      "Pclass         418 non-null int64\n",
      "Name           418 non-null object\n",
      "Sex            418 non-null object\n",
      "Age            332 non-null float64\n",
      "SibSp          418 non-null int64\n",
      "Parch          418 non-null int64\n",
      "Ticket         418 non-null object\n",
      "Fare           417 non-null float64\n",
      "Cabin          91 non-null object\n",
      "Embarked       418 non-null object\n",
      "dtypes: float64(2), int64(4), object(5)\n",
      "memory usage: 36.0+ KB\n"
     ]
    }
   ],
   "source": [
    "#Display the imformation of Data\n",
    "trainData.info()\n",
    "testData.info()"
   ]
  },
  {
   "cell_type": "code",
   "execution_count": 4,
   "metadata": {},
   "outputs": [],
   "source": [
    "#From the Data, the features 'Age', 'Cabin' and 'Embarked' in trainData lose some Data \n",
    "#the features 'Age', 'Fare' and 'Cabin' in testData have missing value"
   ]
  },
  {
   "cell_type": "code",
   "execution_count": 5,
   "metadata": {
    "scrolled": true
   },
   "outputs": [
    {
     "data": {
      "text/plain": [
       "Series([], Name: Age, dtype: float64)"
      ]
     },
     "execution_count": 5,
     "metadata": {},
     "output_type": "execute_result"
    }
   ],
   "source": [
    "#'Age' is absorlutely an important Feature. Use the linear regression to complement it.\n",
    "trainData['Age']=trainData['Age'].fillna(trainData['Age'].mean())\n",
    "#check the fixed data(Age)\n",
    "trainData.Age[trainData.Age.isnull()]"
   ]
  },
  {
   "cell_type": "code",
   "execution_count": 6,
   "metadata": {},
   "outputs": [],
   "source": [
    "#'Embarked' is a useful feature, use the mode to fill the missing value"
   ]
  },
  {
   "cell_type": "code",
   "execution_count": 7,
   "metadata": {
    "scrolled": true
   },
   "outputs": [
    {
     "data": {
      "text/plain": [
       "Series([], Name: Embarked, dtype: object)"
      ]
     },
     "execution_count": 7,
     "metadata": {},
     "output_type": "execute_result"
    }
   ],
   "source": [
    "#find the mode\n",
    "Mode = trainData.Embarked.dropna().mode().values\n",
    "\n",
    "trainData.Embarked[trainData.Embarked.isnull()]    #find the missing value in Embarked\n",
    "#Mode is a list with one elements, choose this element to replace the NaN in Embarked\n",
    "trainData['Embarked'] = trainData.Embarked.fillna(Mode[0])\n",
    "trainData.Embarked[trainData.Embarked.isnull()]    #check the fixed data(Embarked)\n"
   ]
  },
  {
   "cell_type": "code",
   "execution_count": 8,
   "metadata": {},
   "outputs": [],
   "source": [
    "#'Cabin' lose too much value, so we can remain the missing value and regard whether value is missing as a feature"
   ]
  },
  {
   "cell_type": "code",
   "execution_count": 9,
   "metadata": {},
   "outputs": [
    {
     "name": "stdout",
     "output_type": "stream",
     "text": [
      "<class 'pandas.core.frame.DataFrame'>\n",
      "RangeIndex: 891 entries, 0 to 890\n",
      "Data columns (total 12 columns):\n",
      "PassengerId    891 non-null int64\n",
      "Survived       891 non-null int64\n",
      "Pclass         891 non-null int64\n",
      "Name           891 non-null object\n",
      "Sex            891 non-null object\n",
      "Age            891 non-null float64\n",
      "SibSp          891 non-null int64\n",
      "Parch          891 non-null int64\n",
      "Ticket         891 non-null object\n",
      "Fare           891 non-null float64\n",
      "Cabin          204 non-null object\n",
      "Embarked       891 non-null object\n",
      "dtypes: float64(2), int64(5), object(5)\n",
      "memory usage: 83.6+ KB\n"
     ]
    }
   ],
   "source": [
    "#solve the problem of the missing values, show the new training data\n",
    "trainData.info()"
   ]
  },
  {
   "cell_type": "code",
   "execution_count": 10,
   "metadata": {},
   "outputs": [
    {
     "data": {
      "text/html": [
       "<div>\n",
       "<style scoped>\n",
       "    .dataframe tbody tr th:only-of-type {\n",
       "        vertical-align: middle;\n",
       "    }\n",
       "\n",
       "    .dataframe tbody tr th {\n",
       "        vertical-align: top;\n",
       "    }\n",
       "\n",
       "    .dataframe thead th {\n",
       "        text-align: right;\n",
       "    }\n",
       "</style>\n",
       "<table border=\"1\" class=\"dataframe\">\n",
       "  <thead>\n",
       "    <tr style=\"text-align: right;\">\n",
       "      <th></th>\n",
       "      <th>PassengerId</th>\n",
       "      <th>Survived</th>\n",
       "      <th>Pclass</th>\n",
       "      <th>Name</th>\n",
       "      <th>Sex</th>\n",
       "      <th>Age</th>\n",
       "      <th>SibSp</th>\n",
       "      <th>Parch</th>\n",
       "      <th>Ticket</th>\n",
       "      <th>Fare</th>\n",
       "      <th>Cabin</th>\n",
       "      <th>Embarked</th>\n",
       "    </tr>\n",
       "  </thead>\n",
       "  <tbody>\n",
       "    <tr>\n",
       "      <th>0</th>\n",
       "      <td>1</td>\n",
       "      <td>0</td>\n",
       "      <td>3</td>\n",
       "      <td>Braund, Mr. Owen Harris</td>\n",
       "      <td>male</td>\n",
       "      <td>22.0</td>\n",
       "      <td>1</td>\n",
       "      <td>0</td>\n",
       "      <td>A/5 21171</td>\n",
       "      <td>7.2500</td>\n",
       "      <td>NaN</td>\n",
       "      <td>S</td>\n",
       "    </tr>\n",
       "    <tr>\n",
       "      <th>1</th>\n",
       "      <td>2</td>\n",
       "      <td>1</td>\n",
       "      <td>1</td>\n",
       "      <td>Cumings, Mrs. John Bradley (Florence Briggs Th...</td>\n",
       "      <td>female</td>\n",
       "      <td>38.0</td>\n",
       "      <td>1</td>\n",
       "      <td>0</td>\n",
       "      <td>PC 17599</td>\n",
       "      <td>71.2833</td>\n",
       "      <td>C85</td>\n",
       "      <td>C</td>\n",
       "    </tr>\n",
       "    <tr>\n",
       "      <th>2</th>\n",
       "      <td>3</td>\n",
       "      <td>1</td>\n",
       "      <td>3</td>\n",
       "      <td>Heikkinen, Miss. Laina</td>\n",
       "      <td>female</td>\n",
       "      <td>26.0</td>\n",
       "      <td>0</td>\n",
       "      <td>0</td>\n",
       "      <td>STON/O2. 3101282</td>\n",
       "      <td>7.9250</td>\n",
       "      <td>NaN</td>\n",
       "      <td>S</td>\n",
       "    </tr>\n",
       "    <tr>\n",
       "      <th>3</th>\n",
       "      <td>4</td>\n",
       "      <td>1</td>\n",
       "      <td>1</td>\n",
       "      <td>Futrelle, Mrs. Jacques Heath (Lily May Peel)</td>\n",
       "      <td>female</td>\n",
       "      <td>35.0</td>\n",
       "      <td>1</td>\n",
       "      <td>0</td>\n",
       "      <td>113803</td>\n",
       "      <td>53.1000</td>\n",
       "      <td>C123</td>\n",
       "      <td>S</td>\n",
       "    </tr>\n",
       "    <tr>\n",
       "      <th>4</th>\n",
       "      <td>5</td>\n",
       "      <td>0</td>\n",
       "      <td>3</td>\n",
       "      <td>Allen, Mr. William Henry</td>\n",
       "      <td>male</td>\n",
       "      <td>35.0</td>\n",
       "      <td>0</td>\n",
       "      <td>0</td>\n",
       "      <td>373450</td>\n",
       "      <td>8.0500</td>\n",
       "      <td>NaN</td>\n",
       "      <td>S</td>\n",
       "    </tr>\n",
       "  </tbody>\n",
       "</table>\n",
       "</div>"
      ],
      "text/plain": [
       "   PassengerId  Survived  Pclass  \\\n",
       "0            1         0       3   \n",
       "1            2         1       1   \n",
       "2            3         1       3   \n",
       "3            4         1       1   \n",
       "4            5         0       3   \n",
       "\n",
       "                                                Name     Sex   Age  SibSp  \\\n",
       "0                            Braund, Mr. Owen Harris    male  22.0      1   \n",
       "1  Cumings, Mrs. John Bradley (Florence Briggs Th...  female  38.0      1   \n",
       "2                             Heikkinen, Miss. Laina  female  26.0      0   \n",
       "3       Futrelle, Mrs. Jacques Heath (Lily May Peel)  female  35.0      1   \n",
       "4                           Allen, Mr. William Henry    male  35.0      0   \n",
       "\n",
       "   Parch            Ticket     Fare Cabin Embarked  \n",
       "0      0         A/5 21171   7.2500   NaN        S  \n",
       "1      0          PC 17599  71.2833   C85        C  \n",
       "2      0  STON/O2. 3101282   7.9250   NaN        S  \n",
       "3      0            113803  53.1000  C123        S  \n",
       "4      0            373450   8.0500   NaN        S  "
      ]
     },
     "metadata": {},
     "output_type": "display_data"
    }
   ],
   "source": [
    "display(trainData.head())"
   ]
  },
  {
   "cell_type": "code",
   "execution_count": 11,
   "metadata": {},
   "outputs": [],
   "source": [
    "#Data"
   ]
  },
  {
   "cell_type": "code",
   "execution_count": 12,
   "metadata": {},
   "outputs": [],
   "source": [
    "#Plass vs Survived"
   ]
  },
  {
   "cell_type": "code",
   "execution_count": 13,
   "metadata": {},
   "outputs": [
    {
     "data": {
      "text/plain": [
       "<matplotlib.axes._subplots.AxesSubplot at 0x22c173b90b8>"
      ]
     },
     "execution_count": 13,
     "metadata": {},
     "output_type": "execute_result"
    },
    {
     "data": {
      "image/png": "[encoded data removed]",
      "text/plain": [
       "<Figure size 432x288 with 1 Axes>"
      ]
     },
     "metadata": {
      "needs_background": "light"
     },
     "output_type": "display_data"
    }
   ],
   "source": [
    "sns.countplot(x=\"Pclass\", hue=\"Survived\", data=trainData)"
   ]
  },
  {
   "cell_type": "code",
   "execution_count": 14,
   "metadata": {},
   "outputs": [],
   "source": [
    "#We can know the survived rate in pclass3 is lower than other two pclass"
   ]
  },
  {
   "cell_type": "code",
   "execution_count": 15,
   "metadata": {},
   "outputs": [],
   "source": [
    "#Name vs Survived"
   ]
  },
  {
   "cell_type": "code",
   "execution_count": 16,
   "metadata": {},
   "outputs": [
    {
     "data": {
      "text/html": [
       "<div>\n",
       "<style scoped>\n",
       "    .dataframe tbody tr th:only-of-type {\n",
       "        vertical-align: middle;\n",
       "    }\n",
       "\n",
       "    .dataframe tbody tr th {\n",
       "        vertical-align: top;\n",
       "    }\n",
       "\n",
       "    .dataframe thead th {\n",
       "        text-align: right;\n",
       "    }\n",
       "</style>\n",
       "<table border=\"1\" class=\"dataframe\">\n",
       "  <thead>\n",
       "    <tr style=\"text-align: right;\">\n",
       "      <th>col_0</th>\n",
       "      <th>Num</th>\n",
       "    </tr>\n",
       "    <tr>\n",
       "      <th>Title</th>\n",
       "      <th></th>\n",
       "    </tr>\n",
       "  </thead>\n",
       "  <tbody>\n",
       "    <tr>\n",
       "      <th>Capt</th>\n",
       "      <td>1</td>\n",
       "    </tr>\n",
       "    <tr>\n",
       "      <th>Col</th>\n",
       "      <td>2</td>\n",
       "    </tr>\n",
       "    <tr>\n",
       "      <th>Countess</th>\n",
       "      <td>1</td>\n",
       "    </tr>\n",
       "    <tr>\n",
       "      <th>Don</th>\n",
       "      <td>1</td>\n",
       "    </tr>\n",
       "    <tr>\n",
       "      <th>Dr</th>\n",
       "      <td>7</td>\n",
       "    </tr>\n",
       "    <tr>\n",
       "      <th>Jonkheer</th>\n",
       "      <td>1</td>\n",
       "    </tr>\n",
       "    <tr>\n",
       "      <th>Lady</th>\n",
       "      <td>1</td>\n",
       "    </tr>\n",
       "    <tr>\n",
       "      <th>Major</th>\n",
       "      <td>2</td>\n",
       "    </tr>\n",
       "    <tr>\n",
       "      <th>Master</th>\n",
       "      <td>40</td>\n",
       "    </tr>\n",
       "    <tr>\n",
       "      <th>Miss</th>\n",
       "      <td>182</td>\n",
       "    </tr>\n",
       "    <tr>\n",
       "      <th>Mlle</th>\n",
       "      <td>2</td>\n",
       "    </tr>\n",
       "    <tr>\n",
       "      <th>Mme</th>\n",
       "      <td>1</td>\n",
       "    </tr>\n",
       "    <tr>\n",
       "      <th>Mr</th>\n",
       "      <td>517</td>\n",
       "    </tr>\n",
       "    <tr>\n",
       "      <th>Mrs</th>\n",
       "      <td>125</td>\n",
       "    </tr>\n",
       "    <tr>\n",
       "      <th>Ms</th>\n",
       "      <td>1</td>\n",
       "    </tr>\n",
       "    <tr>\n",
       "      <th>Rev</th>\n",
       "      <td>6</td>\n",
       "    </tr>\n",
       "    <tr>\n",
       "      <th>Sir</th>\n",
       "      <td>1</td>\n",
       "    </tr>\n",
       "  </tbody>\n",
       "</table>\n",
       "</div>"
      ],
      "text/plain": [
       "col_0     Num\n",
       "Title        \n",
       "Capt        1\n",
       "Col         2\n",
       "Countess    1\n",
       "Don         1\n",
       "Dr          7\n",
       "Jonkheer    1\n",
       "Lady        1\n",
       "Major       2\n",
       "Master     40\n",
       "Miss      182\n",
       "Mlle        2\n",
       "Mme         1\n",
       "Mr        517\n",
       "Mrs       125\n",
       "Ms          1\n",
       "Rev         6\n",
       "Sir         1"
      ]
     },
     "execution_count": 16,
     "metadata": {},
     "output_type": "execute_result"
    }
   ],
   "source": [
    "#'Name' is not a clear feature so we can get the new elements from 'Name' as new feature\n",
    "#the title might be a useful feature because we can get some imformation about the sex and social layer of the people\n",
    "trainData['Title'] = trainData['Name'].str.extract(' ([A-Za-z]+)\\.', expand=True)\n",
    "#pd.crosstab(trainData['Title'], trainData['Sex'])\n",
    "pd.crosstab(trainData['Title'],'Num')"
   ]
  },
  {
   "cell_type": "code",
   "execution_count": 17,
   "metadata": {},
   "outputs": [
    {
     "data": {
      "text/plain": [
       "<matplotlib.axes._subplots.AxesSubplot at 0x22c176fa9e8>"
      ]
     },
     "execution_count": 17,
     "metadata": {},
     "output_type": "execute_result"
    },
    {
     "data": {
      "image/png": "[encoded data removed]",
      "text/plain": [
       "<Figure size 432x288 with 1 Axes>"
      ]
     },
     "metadata": {
      "needs_background": "light"
     },
     "output_type": "display_data"
    }
   ],
   "source": [
    "#plot the Title vs Survived\n",
    "sns.countplot(x=\"Title\", hue=\"Survived\", data=trainData)"
   ]
  },
  {
   "cell_type": "code",
   "execution_count": 18,
   "metadata": {
    "scrolled": true
   },
   "outputs": [
    {
     "data": {
      "text/plain": [
       "<matplotlib.axes._subplots.AxesSubplot at 0x22c177b7978>"
      ]
     },
     "execution_count": 18,
     "metadata": {},
     "output_type": "execute_result"
    },
    {
     "data": {
      "image/png": "[encoded data removed]",
      "text/plain": [
       "<Figure size 432x288 with 1 Axes>"
      ]
     },
     "metadata": {
      "needs_background": "light"
     },
     "output_type": "display_data"
    }
   ],
   "source": [
    "#we can see that the image showed above is not clear\n",
    "#use the mean of the title which means the number of survived people divided by number of all the people of each title\n",
    "#this is equal to the rate of surviving of each title\n",
    "trainData[['Title','Survived']].groupby(['Title']).mean().plot.bar()\n",
    "#trainData['Title'][200:300,]"
   ]
  },
  {
   "cell_type": "code",
   "execution_count": 19,
   "metadata": {},
   "outputs": [],
   "source": [
    "#feature 'Title' classification\n",
    "title_Dict = {}\n",
    "title_Dict.update(dict.fromkeys(['Capt', 'Col', 'Major', 'Dr', 'Rev'], 'Officer'))\n",
    "title_Dict.update(dict.fromkeys(['Don', 'Sir', 'the Countess', 'Dona', 'Lady'], 'Royalty'))\n",
    "title_Dict.update(dict.fromkeys(['Mme', 'Ms', 'Mrs'], 'Mrs'))\n",
    "title_Dict.update(dict.fromkeys(['Mlle', 'Miss'], 'Miss'))\n",
    "title_Dict.update(dict.fromkeys(['Mr'], 'Mr'))\n",
    "title_Dict.update(dict.fromkeys(['Master','Jonkheer'], 'Master'))\n",
    "trainData['Title'] = trainData['Title'].map(title_Dict)"
   ]
  },
  {
   "cell_type": "code",
   "execution_count": 20,
   "metadata": {},
   "outputs": [
    {
     "data": {
      "text/plain": [
       "<matplotlib.axes._subplots.AxesSubplot at 0x22c176fa400>"
      ]
     },
     "execution_count": 20,
     "metadata": {},
     "output_type": "execute_result"
    },
    {
     "data": {
      "image/png": "[encoded data removed]",
      "text/plain": [
       "<Figure size 1080x288 with 1 Axes>"
      ]
     },
     "metadata": {
      "needs_background": "light"
     },
     "output_type": "display_data"
    }
   ],
   "source": [
    "#In same way, we can consider the relationship between the length of the name and 'Survived'\n",
    "trainData['len_Name'] = trainData['Name'].apply(len)\n",
    "trainData[['len_Name','Survived']].groupby(['len_Name']).mean().plot.bar(figsize=(15,4))"
   ]
  },
  {
   "cell_type": "code",
   "execution_count": 21,
   "metadata": {},
   "outputs": [],
   "source": [
    "#Sex vs Survived"
   ]
  },
  {
   "cell_type": "code",
   "execution_count": 22,
   "metadata": {},
   "outputs": [
    {
     "data": {
      "text/plain": [
       "<matplotlib.axes._subplots.AxesSubplot at 0x22c17afd400>"
      ]
     },
     "execution_count": 22,
     "metadata": {},
     "output_type": "execute_result"
    },
    {
     "data": {
      "image/png": "[encoded data removed]",
      "text/plain": [
       "<Figure size 432x288 with 1 Axes>"
      ]
     },
     "metadata": {
      "needs_background": "light"
     },
     "output_type": "display_data"
    }
   ],
   "source": [
    "sns.countplot(x=\"Sex\", hue=\"Survived\", data=trainData)"
   ]
  },
  {
   "cell_type": "code",
   "execution_count": 23,
   "metadata": {},
   "outputs": [],
   "source": [
    "#Age vs Survived"
   ]
  },
  {
   "cell_type": "code",
   "execution_count": 24,
   "metadata": {},
   "outputs": [
    {
     "name": "stderr",
     "output_type": "stream",
     "text": [
      "C:\\Users\\41625\\Anaconda3\\lib\\site-packages\\scipy\\stats\\stats.py:1713: FutureWarning: Using a non-tuple sequence for multidimensional indexing is deprecated; use `arr[tuple(seq)]` instead of `arr[seq]`. In the future this will be interpreted as an array index, `arr[np.array(seq)]`, which will result either in an error or a different result.\n",
      "  return np.add.reduce(sorted[indexer] * weights, axis=axis) / sumval\n"
     ]
    },
    {
     "data": {
      "text/plain": [
       "<matplotlib.axes._subplots.AxesSubplot at 0x22c179d00f0>"
      ]
     },
     "execution_count": 24,
     "metadata": {},
     "output_type": "execute_result"
    },
    {
     "data": {
      "image/png": "[encoded data removed]",
      "text/plain": [
       "<Figure size 432x288 with 1 Axes>"
      ]
     },
     "metadata": {
      "needs_background": "light"
     },
     "output_type": "display_data"
    }
   ],
   "source": [
    "sns.violinplot('Survived','Age',data = trainData)"
   ]
  },
  {
   "cell_type": "code",
   "execution_count": 25,
   "metadata": {},
   "outputs": [
    {
     "data": {
      "text/plain": [
       "<seaborn.axisgrid.FacetGrid at 0x22c17a874e0>"
      ]
     },
     "execution_count": 25,
     "metadata": {},
     "output_type": "execute_result"
    },
    {
     "data": {
      "image/png": "[encoded data removed]",
      "text/plain": [
       "<Figure size 915.875x216 with 1 Axes>"
      ]
     },
     "metadata": {
      "needs_background": "light"
     },
     "output_type": "display_data"
    }
   ],
   "source": [
    "#the violin chart can not show the difference of the survived people in every age group\n",
    "facet = sns.FacetGrid(trainData, hue=\"Survived\",aspect=4)\n",
    "facet.map(sns.kdeplot,'Age',shade= True)\n",
    "facet.set(xlim=(0, trainData['Age'].max()))\n",
    "facet.add_legend()"
   ]
  },
  {
   "cell_type": "code",
   "execution_count": 26,
   "metadata": {},
   "outputs": [],
   "source": [
    "#feature 'Age' classification\n",
    "trainData['Age']=trainData['Age'].map(lambda x: 'children' if x<12 else 'youth' if x<18 else 'adult' if x<65 else 'old' if x<=80 else 'null')\n",
    "#trainData['Age']"
   ]
  },
  {
   "cell_type": "code",
   "execution_count": 27,
   "metadata": {},
   "outputs": [],
   "source": [
    "#Sibsp vs Survived"
   ]
  },
  {
   "cell_type": "code",
   "execution_count": 28,
   "metadata": {},
   "outputs": [
    {
     "data": {
      "text/plain": [
       "<matplotlib.axes._subplots.AxesSubplot at 0x22c17b62ba8>"
      ]
     },
     "execution_count": 28,
     "metadata": {},
     "output_type": "execute_result"
    },
    {
     "data": {
      "image/png": "[encoded data removed]",
      "text/plain": [
       "<Figure size 432x288 with 1 Axes>"
      ]
     },
     "metadata": {
      "needs_background": "light"
     },
     "output_type": "display_data"
    }
   ],
   "source": [
    "sns.countplot(x=\"SibSp\", hue=\"Survived\", data=trainData)"
   ]
  },
  {
   "cell_type": "code",
   "execution_count": 29,
   "metadata": {},
   "outputs": [],
   "source": [
    "#feature 'SibSp' classification\n",
    "trainData['SibSp']=trainData['SibSp'].map(lambda x: 'small' if x<1 else 'middle' if x<3 else 'large')\n",
    "#trainData['SibSp']"
   ]
  },
  {
   "cell_type": "code",
   "execution_count": 30,
   "metadata": {},
   "outputs": [],
   "source": [
    "#Parch vs Survived"
   ]
  },
  {
   "cell_type": "code",
   "execution_count": 31,
   "metadata": {
    "scrolled": true
   },
   "outputs": [
    {
     "data": {
      "text/plain": [
       "<matplotlib.axes._subplots.AxesSubplot at 0x22c17bcb978>"
      ]
     },
     "execution_count": 31,
     "metadata": {},
     "output_type": "execute_result"
    },
    {
     "data": {
      "image/png": "[encoded data removed]",
      "text/plain": [
       "<Figure size 432x288 with 1 Axes>"
      ]
     },
     "metadata": {
      "needs_background": "light"
     },
     "output_type": "display_data"
    }
   ],
   "source": [
    "sns.countplot(x=\"Parch\", hue=\"Survived\", data=trainData)"
   ]
  },
  {
   "cell_type": "code",
   "execution_count": 32,
   "metadata": {},
   "outputs": [],
   "source": [
    "#feature 'Parch' classification\n",
    "trainData['Parch']=trainData['Parch'].map(lambda x: 'small' if x<1 else 'middle' if x<4 else 'large')\n",
    "#trainData['Parch']"
   ]
  },
  {
   "cell_type": "code",
   "execution_count": 33,
   "metadata": {},
   "outputs": [],
   "source": [
    "#Fare vs Survived"
   ]
  },
  {
   "cell_type": "code",
   "execution_count": 34,
   "metadata": {},
   "outputs": [
    {
     "data": {
      "text/plain": [
       "<matplotlib.axes._subplots.AxesSubplot at 0x22c17bea6d8>"
      ]
     },
     "execution_count": 34,
     "metadata": {},
     "output_type": "execute_result"
    },
    {
     "data": {
      "image/png": "[encoded data removed]",
      "text/plain": [
       "<Figure size 432x288 with 1 Axes>"
      ]
     },
     "metadata": {
      "needs_background": "light"
     },
     "output_type": "display_data"
    }
   ],
   "source": [
    "sns.violinplot(x='Survived',y='Fare',data=trainData)"
   ]
  },
  {
   "cell_type": "code",
   "execution_count": 35,
   "metadata": {},
   "outputs": [
    {
     "data": {
      "text/plain": [
       "<matplotlib.axes._subplots.AxesSubplot at 0x22c17cb74e0>"
      ]
     },
     "execution_count": 35,
     "metadata": {},
     "output_type": "execute_result"
    },
    {
     "data": {
      "image/png": "[encoded data removed]",
      "text/plain": [
       "<Figure size 432x288 with 1 Axes>"
      ]
     },
     "metadata": {
      "needs_background": "light"
     },
     "output_type": "display_data"
    }
   ],
   "source": [
    "#figure above is not clear, so we normalize the data\n",
    "trainData['Fare']=trainData['Fare'].map(lambda x:np.log(x+1))\n",
    "#\n",
    "sns.violinplot(x='Survived',y='Fare',data=trainData)"
   ]
  },
  {
   "cell_type": "code",
   "execution_count": 36,
   "metadata": {},
   "outputs": [
    {
     "data": {
      "text/plain": [
       "<seaborn.axisgrid.FacetGrid at 0x22c17d17cf8>"
      ]
     },
     "execution_count": 36,
     "metadata": {},
     "output_type": "execute_result"
    },
    {
     "data": {
      "image/png": "[encoded data removed]",
      "text/plain": [
       "<Figure size 915.875x216 with 1 Axes>"
      ]
     },
     "metadata": {
      "needs_background": "light"
     },
     "output_type": "display_data"
    }
   ],
   "source": [
    "facet = sns.FacetGrid(trainData, hue=\"Survived\",aspect=4)\n",
    "facet.map(sns.kdeplot,'Fare',shade= True)\n",
    "facet.set(xlim=(0, trainData['Fare'].max()))\n",
    "facet.add_legend()"
   ]
  },
  {
   "cell_type": "code",
   "execution_count": 37,
   "metadata": {},
   "outputs": [],
   "source": [
    "#feature 'Fare' classification\n",
    "#when log(Fare)<2.7,the rate of death is higher than rate of surviving\n",
    "trainData['Fare']=trainData['Fare'].map(lambda x: 'poor' if x<2.7 else 'rich')\n",
    "#trainData['Fare']"
   ]
  },
  {
   "cell_type": "code",
   "execution_count": 38,
   "metadata": {},
   "outputs": [],
   "source": [
    "#Carbin vs Survived"
   ]
  },
  {
   "cell_type": "code",
   "execution_count": 39,
   "metadata": {},
   "outputs": [
    {
     "data": {
      "text/plain": [
       "<matplotlib.axes._subplots.AxesSubplot at 0x22c17d4cdd8>"
      ]
     },
     "execution_count": 39,
     "metadata": {},
     "output_type": "execute_result"
    },
    {
     "data": {
      "image/png": "[encoded data removed]",
      "text/plain": [
       "<Figure size 432x288 with 1 Axes>"
      ]
     },
     "metadata": {
      "needs_background": "light"
     },
     "output_type": "display_data"
    }
   ],
   "source": [
    "#feature 'Cabin' classification\n",
    "trainData['Cabin']=trainData['Cabin'].map(lambda x:'yes' if type(x) == str else 'no')\n",
    "#plot\n",
    "sns.countplot(x=\"Cabin\", hue=\"Survived\", data=trainData)"
   ]
  },
  {
   "cell_type": "code",
   "execution_count": 40,
   "metadata": {},
   "outputs": [
    {
     "data": {
      "text/plain": [
       "Survived               1.000000\n",
       "Sex_female             0.543351\n",
       "Title_Mrs              0.344935\n",
       "Title_Miss             0.332795\n",
       "len_Name               0.332350\n",
       "Cabin_yes              0.316912\n",
       "Fare_rich              0.260166\n",
       "SibSp_middle           0.177738\n",
       "Embarked_C             0.168240\n",
       "Parch_middle           0.165511\n",
       "Age_children           0.112119\n",
       "Ticket_113760          0.085083\n",
       "Ticket_2666            0.085083\n",
       "Title_Master           0.079996\n",
       "Ticket_PC 17572        0.073642\n",
       "Ticket_PC 17755        0.073642\n",
       "Ticket_24160           0.073642\n",
       "Ticket_13502           0.073642\n",
       "Ticket_110152          0.073642\n",
       "Ticket_29106           0.073642\n",
       "Ticket_347742          0.073642\n",
       "Ticket_1601            0.060465\n",
       "Ticket_PP 9549         0.060095\n",
       "Ticket_PC 17569        0.060095\n",
       "Ticket_2651            0.060095\n",
       "Ticket_113572          0.060095\n",
       "Ticket_2661            0.060095\n",
       "Ticket_248738          0.060095\n",
       "Ticket_364516          0.060095\n",
       "Ticket_231919          0.060095\n",
       "                         ...   \n",
       "Ticket_A/4 48871      -0.037436\n",
       "Ticket_PC 17593       -0.037436\n",
       "Ticket_244252         -0.037436\n",
       "Ticket_239865         -0.037436\n",
       "Ticket_2678           -0.037436\n",
       "Ticket_7534           -0.037436\n",
       "Ticket_345773         -0.045876\n",
       "Ticket_239853         -0.045876\n",
       "Ticket_4133           -0.053002\n",
       "Ticket_349909         -0.053002\n",
       "Ticket_W./C. 6608     -0.053002\n",
       "Ticket_382652         -0.059292\n",
       "Ticket_S.O.C. 14879   -0.059292\n",
       "Parch_large           -0.062182\n",
       "Ticket_347088         -0.064988\n",
       "Ticket_3101295        -0.064988\n",
       "Ticket_CA 2144        -0.064988\n",
       "Age_old               -0.067344\n",
       "Ticket_347082         -0.070234\n",
       "Ticket_CA. 2343       -0.070234\n",
       "Age_adult             -0.096040\n",
       "SibSp_large           -0.111145\n",
       "SibSp_small           -0.115867\n",
       "Parch_small           -0.147408\n",
       "Embarked_S            -0.149683\n",
       "Fare_poor             -0.260166\n",
       "Cabin_no              -0.316912\n",
       "Pclass                -0.338481\n",
       "Sex_male              -0.543351\n",
       "Title_Mr              -0.549199\n",
       "Name: Survived, Length: 1601, dtype: float64"
      ]
     },
     "execution_count": 40,
     "metadata": {},
     "output_type": "execute_result"
    }
   ],
   "source": [
    "#feature selection\n",
    "trainData_dum = pd.get_dummies(trainData)\n",
    "corrDf = trainData_dum.corr()\n",
    "corrDf['Survived'].sort_values(ascending = False)"
   ]
  },
  {
   "cell_type": "code",
   "execution_count": 41,
   "metadata": {},
   "outputs": [
    {
     "name": "stdout",
     "output_type": "stream",
     "text": [
      "27 total features after one-hot encoding.\n"
     ]
    }
   ],
   "source": [
    "#divide the training data into two part,'label' and 'features'\n",
    "labels= trainData['Survived']\n",
    "#from the feature selection we delete 'PassengerId','Name','Ticket' ,'Age'and the output 'survived'\n",
    "features= trainData.drop(['Survived','PassengerId','Name','Ticket'],axis=1)\n",
    "\n",
    "features = pd.get_dummies(features)\n",
    "encoded = list(features.columns)\n",
    "print(\"{} total features after one-hot encoding.\".format(len(encoded)))"
   ]
  },
  {
   "cell_type": "code",
   "execution_count": 42,
   "metadata": {},
   "outputs": [],
   "source": [
    "#As for the test data"
   ]
  },
  {
   "cell_type": "code",
   "execution_count": 43,
   "metadata": {},
   "outputs": [
    {
     "name": "stdout",
     "output_type": "stream",
     "text": [
      "<class 'pandas.core.frame.DataFrame'>\n",
      "RangeIndex: 418 entries, 0 to 417\n",
      "Data columns (total 11 columns):\n",
      "PassengerId    418 non-null int64\n",
      "Pclass         418 non-null int64\n",
      "Name           418 non-null object\n",
      "Sex            418 non-null object\n",
      "Age            332 non-null float64\n",
      "SibSp          418 non-null int64\n",
      "Parch          418 non-null int64\n",
      "Ticket         418 non-null object\n",
      "Fare           417 non-null float64\n",
      "Cabin          91 non-null object\n",
      "Embarked       418 non-null object\n",
      "dtypes: float64(2), int64(4), object(5)\n",
      "memory usage: 36.0+ KB\n"
     ]
    }
   ],
   "source": [
    "testData.info()"
   ]
  },
  {
   "cell_type": "code",
   "execution_count": 44,
   "metadata": {},
   "outputs": [],
   "source": [
    "#use mean to fix 'Age'\n",
    "testData['Age']=testData['Age'].fillna(testData['Age'].mean())\n",
    "#testData['Age']"
   ]
  },
  {
   "cell_type": "code",
   "execution_count": 45,
   "metadata": {},
   "outputs": [],
   "source": [
    "#use mean to fix 'Fare'\n",
    "Mode_test_1 = testData.Fare.dropna().mode().values\n",
    "testData.Fare[testData.Fare.isnull()]\n",
    "testData['Fare'] = testData.Fare.fillna(Mode_test_1[0])"
   ]
  },
  {
   "cell_type": "code",
   "execution_count": 46,
   "metadata": {},
   "outputs": [
    {
     "name": "stdout",
     "output_type": "stream",
     "text": [
      "<class 'pandas.core.frame.DataFrame'>\n",
      "RangeIndex: 418 entries, 0 to 417\n",
      "Data columns (total 11 columns):\n",
      "PassengerId    418 non-null int64\n",
      "Pclass         418 non-null int64\n",
      "Name           418 non-null object\n",
      "Sex            418 non-null object\n",
      "Age            418 non-null float64\n",
      "SibSp          418 non-null int64\n",
      "Parch          418 non-null int64\n",
      "Ticket         418 non-null object\n",
      "Fare           418 non-null float64\n",
      "Cabin          91 non-null object\n",
      "Embarked       418 non-null object\n",
      "dtypes: float64(2), int64(4), object(5)\n",
      "memory usage: 36.0+ KB\n"
     ]
    }
   ],
   "source": [
    "testData.info()"
   ]
  },
  {
   "cell_type": "code",
   "execution_count": 47,
   "metadata": {},
   "outputs": [],
   "source": [
    "#test data feature classification\n",
    "testData['Title'] = testData['Name'].str.extract(' ([A-Za-z]+)\\.', expand=True)\n",
    "testData['Title'] = testData['Title'].map(title_Dict)\n",
    "testData['len_Name'] = testData['Name'].apply(len)\n",
    "testData['Age']=testData['Age'].map(lambda x: 'children' if x<12 else 'youth' if x<18 else 'adult' if x<65 else 'old' if x<=80 else 'null')\n",
    "testData['SibSp']=testData['SibSp'].map(lambda x: 'small' if x<1 else 'middle' if x<3 else 'large')\n",
    "testData['Parch']=testData['Parch'].map(lambda x: 'small' if x<1 else 'middle' if x<4 else 'large')\n",
    "testData['Fare']=testData['Fare'].map(lambda x:np.log(x+1))\n",
    "testData['Fare']=testData['Fare'].map(lambda x: 'poor' if x<2.7 else 'rich')\n",
    "testData['Cabin']=testData['Cabin'].map(lambda x:'yes' if type(x) == str else 'no')\n"
   ]
  },
  {
   "cell_type": "code",
   "execution_count": 48,
   "metadata": {},
   "outputs": [
    {
     "data": {
      "text/html": [
       "<div>\n",
       "<style scoped>\n",
       "    .dataframe tbody tr th:only-of-type {\n",
       "        vertical-align: middle;\n",
       "    }\n",
       "\n",
       "    .dataframe tbody tr th {\n",
       "        vertical-align: top;\n",
       "    }\n",
       "\n",
       "    .dataframe thead th {\n",
       "        text-align: right;\n",
       "    }\n",
       "</style>\n",
       "<table border=\"1\" class=\"dataframe\">\n",
       "  <thead>\n",
       "    <tr style=\"text-align: right;\">\n",
       "      <th></th>\n",
       "      <th>PassengerId</th>\n",
       "      <th>Pclass</th>\n",
       "      <th>Name</th>\n",
       "      <th>Sex</th>\n",
       "      <th>Age</th>\n",
       "      <th>SibSp</th>\n",
       "      <th>Parch</th>\n",
       "      <th>Ticket</th>\n",
       "      <th>Fare</th>\n",
       "      <th>Cabin</th>\n",
       "      <th>Embarked</th>\n",
       "      <th>Title</th>\n",
       "      <th>len_Name</th>\n",
       "    </tr>\n",
       "  </thead>\n",
       "  <tbody>\n",
       "    <tr>\n",
       "      <th>0</th>\n",
       "      <td>892</td>\n",
       "      <td>3</td>\n",
       "      <td>Kelly, Mr. James</td>\n",
       "      <td>male</td>\n",
       "      <td>adult</td>\n",
       "      <td>small</td>\n",
       "      <td>small</td>\n",
       "      <td>330911</td>\n",
       "      <td>poor</td>\n",
       "      <td>no</td>\n",
       "      <td>Q</td>\n",
       "      <td>Mr</td>\n",
       "      <td>16</td>\n",
       "    </tr>\n",
       "    <tr>\n",
       "      <th>1</th>\n",
       "      <td>893</td>\n",
       "      <td>3</td>\n",
       "      <td>Wilkes, Mrs. James (Ellen Needs)</td>\n",
       "      <td>female</td>\n",
       "      <td>adult</td>\n",
       "      <td>middle</td>\n",
       "      <td>small</td>\n",
       "      <td>363272</td>\n",
       "      <td>poor</td>\n",
       "      <td>no</td>\n",
       "      <td>S</td>\n",
       "      <td>Mrs</td>\n",
       "      <td>32</td>\n",
       "    </tr>\n",
       "    <tr>\n",
       "      <th>2</th>\n",
       "      <td>894</td>\n",
       "      <td>2</td>\n",
       "      <td>Myles, Mr. Thomas Francis</td>\n",
       "      <td>male</td>\n",
       "      <td>adult</td>\n",
       "      <td>small</td>\n",
       "      <td>small</td>\n",
       "      <td>240276</td>\n",
       "      <td>poor</td>\n",
       "      <td>no</td>\n",
       "      <td>Q</td>\n",
       "      <td>Mr</td>\n",
       "      <td>25</td>\n",
       "    </tr>\n",
       "    <tr>\n",
       "      <th>3</th>\n",
       "      <td>895</td>\n",
       "      <td>3</td>\n",
       "      <td>Wirz, Mr. Albert</td>\n",
       "      <td>male</td>\n",
       "      <td>adult</td>\n",
       "      <td>small</td>\n",
       "      <td>small</td>\n",
       "      <td>315154</td>\n",
       "      <td>poor</td>\n",
       "      <td>no</td>\n",
       "      <td>S</td>\n",
       "      <td>Mr</td>\n",
       "      <td>16</td>\n",
       "    </tr>\n",
       "    <tr>\n",
       "      <th>4</th>\n",
       "      <td>896</td>\n",
       "      <td>3</td>\n",
       "      <td>Hirvonen, Mrs. Alexander (Helga E Lindqvist)</td>\n",
       "      <td>female</td>\n",
       "      <td>adult</td>\n",
       "      <td>middle</td>\n",
       "      <td>middle</td>\n",
       "      <td>3101298</td>\n",
       "      <td>poor</td>\n",
       "      <td>no</td>\n",
       "      <td>S</td>\n",
       "      <td>Mrs</td>\n",
       "      <td>44</td>\n",
       "    </tr>\n",
       "    <tr>\n",
       "      <th>5</th>\n",
       "      <td>897</td>\n",
       "      <td>3</td>\n",
       "      <td>Svensson, Mr. Johan Cervin</td>\n",
       "      <td>male</td>\n",
       "      <td>youth</td>\n",
       "      <td>small</td>\n",
       "      <td>small</td>\n",
       "      <td>7538</td>\n",
       "      <td>poor</td>\n",
       "      <td>no</td>\n",
       "      <td>S</td>\n",
       "      <td>Mr</td>\n",
       "      <td>26</td>\n",
       "    </tr>\n",
       "    <tr>\n",
       "      <th>6</th>\n",
       "      <td>898</td>\n",
       "      <td>3</td>\n",
       "      <td>Connolly, Miss. Kate</td>\n",
       "      <td>female</td>\n",
       "      <td>adult</td>\n",
       "      <td>small</td>\n",
       "      <td>small</td>\n",
       "      <td>330972</td>\n",
       "      <td>poor</td>\n",
       "      <td>no</td>\n",
       "      <td>Q</td>\n",
       "      <td>Miss</td>\n",
       "      <td>20</td>\n",
       "    </tr>\n",
       "    <tr>\n",
       "      <th>7</th>\n",
       "      <td>899</td>\n",
       "      <td>2</td>\n",
       "      <td>Caldwell, Mr. Albert Francis</td>\n",
       "      <td>male</td>\n",
       "      <td>adult</td>\n",
       "      <td>middle</td>\n",
       "      <td>middle</td>\n",
       "      <td>248738</td>\n",
       "      <td>rich</td>\n",
       "      <td>no</td>\n",
       "      <td>S</td>\n",
       "      <td>Mr</td>\n",
       "      <td>28</td>\n",
       "    </tr>\n",
       "    <tr>\n",
       "      <th>8</th>\n",
       "      <td>900</td>\n",
       "      <td>3</td>\n",
       "      <td>Abrahim, Mrs. Joseph (Sophie Halaut Easu)</td>\n",
       "      <td>female</td>\n",
       "      <td>adult</td>\n",
       "      <td>small</td>\n",
       "      <td>small</td>\n",
       "      <td>2657</td>\n",
       "      <td>poor</td>\n",
       "      <td>no</td>\n",
       "      <td>C</td>\n",
       "      <td>Mrs</td>\n",
       "      <td>41</td>\n",
       "    </tr>\n",
       "    <tr>\n",
       "      <th>9</th>\n",
       "      <td>901</td>\n",
       "      <td>3</td>\n",
       "      <td>Davies, Mr. John Samuel</td>\n",
       "      <td>male</td>\n",
       "      <td>adult</td>\n",
       "      <td>middle</td>\n",
       "      <td>small</td>\n",
       "      <td>A/4 48871</td>\n",
       "      <td>rich</td>\n",
       "      <td>no</td>\n",
       "      <td>S</td>\n",
       "      <td>Mr</td>\n",
       "      <td>23</td>\n",
       "    </tr>\n",
       "    <tr>\n",
       "      <th>10</th>\n",
       "      <td>902</td>\n",
       "      <td>3</td>\n",
       "      <td>Ilieff, Mr. Ylio</td>\n",
       "      <td>male</td>\n",
       "      <td>adult</td>\n",
       "      <td>small</td>\n",
       "      <td>small</td>\n",
       "      <td>349220</td>\n",
       "      <td>poor</td>\n",
       "      <td>no</td>\n",
       "      <td>S</td>\n",
       "      <td>Mr</td>\n",
       "      <td>16</td>\n",
       "    </tr>\n",
       "    <tr>\n",
       "      <th>11</th>\n",
       "      <td>903</td>\n",
       "      <td>1</td>\n",
       "      <td>Jones, Mr. Charles Cresson</td>\n",
       "      <td>male</td>\n",
       "      <td>adult</td>\n",
       "      <td>small</td>\n",
       "      <td>small</td>\n",
       "      <td>694</td>\n",
       "      <td>rich</td>\n",
       "      <td>no</td>\n",
       "      <td>S</td>\n",
       "      <td>Mr</td>\n",
       "      <td>26</td>\n",
       "    </tr>\n",
       "    <tr>\n",
       "      <th>12</th>\n",
       "      <td>904</td>\n",
       "      <td>1</td>\n",
       "      <td>Snyder, Mrs. John Pillsbury (Nelle Stevenson)</td>\n",
       "      <td>female</td>\n",
       "      <td>adult</td>\n",
       "      <td>middle</td>\n",
       "      <td>small</td>\n",
       "      <td>21228</td>\n",
       "      <td>rich</td>\n",
       "      <td>yes</td>\n",
       "      <td>S</td>\n",
       "      <td>Mrs</td>\n",
       "      <td>45</td>\n",
       "    </tr>\n",
       "    <tr>\n",
       "      <th>13</th>\n",
       "      <td>905</td>\n",
       "      <td>2</td>\n",
       "      <td>Howard, Mr. Benjamin</td>\n",
       "      <td>male</td>\n",
       "      <td>adult</td>\n",
       "      <td>middle</td>\n",
       "      <td>small</td>\n",
       "      <td>24065</td>\n",
       "      <td>rich</td>\n",
       "      <td>no</td>\n",
       "      <td>S</td>\n",
       "      <td>Mr</td>\n",
       "      <td>20</td>\n",
       "    </tr>\n",
       "    <tr>\n",
       "      <th>14</th>\n",
       "      <td>906</td>\n",
       "      <td>1</td>\n",
       "      <td>Chaffee, Mrs. Herbert Fuller (Carrie Constance...</td>\n",
       "      <td>female</td>\n",
       "      <td>adult</td>\n",
       "      <td>middle</td>\n",
       "      <td>small</td>\n",
       "      <td>W.E.P. 5734</td>\n",
       "      <td>rich</td>\n",
       "      <td>yes</td>\n",
       "      <td>S</td>\n",
       "      <td>Mrs</td>\n",
       "      <td>55</td>\n",
       "    </tr>\n",
       "    <tr>\n",
       "      <th>15</th>\n",
       "      <td>907</td>\n",
       "      <td>2</td>\n",
       "      <td>del Carlo, Mrs. Sebastiano (Argenia Genovesi)</td>\n",
       "      <td>female</td>\n",
       "      <td>adult</td>\n",
       "      <td>middle</td>\n",
       "      <td>small</td>\n",
       "      <td>SC/PARIS 2167</td>\n",
       "      <td>rich</td>\n",
       "      <td>no</td>\n",
       "      <td>C</td>\n",
       "      <td>Mrs</td>\n",
       "      <td>45</td>\n",
       "    </tr>\n",
       "    <tr>\n",
       "      <th>16</th>\n",
       "      <td>908</td>\n",
       "      <td>2</td>\n",
       "      <td>Keane, Mr. Daniel</td>\n",
       "      <td>male</td>\n",
       "      <td>adult</td>\n",
       "      <td>small</td>\n",
       "      <td>small</td>\n",
       "      <td>233734</td>\n",
       "      <td>poor</td>\n",
       "      <td>no</td>\n",
       "      <td>Q</td>\n",
       "      <td>Mr</td>\n",
       "      <td>17</td>\n",
       "    </tr>\n",
       "    <tr>\n",
       "      <th>17</th>\n",
       "      <td>909</td>\n",
       "      <td>3</td>\n",
       "      <td>Assaf, Mr. Gerios</td>\n",
       "      <td>male</td>\n",
       "      <td>adult</td>\n",
       "      <td>small</td>\n",
       "      <td>small</td>\n",
       "      <td>2692</td>\n",
       "      <td>poor</td>\n",
       "      <td>no</td>\n",
       "      <td>C</td>\n",
       "      <td>Mr</td>\n",
       "      <td>17</td>\n",
       "    </tr>\n",
       "    <tr>\n",
       "      <th>18</th>\n",
       "      <td>910</td>\n",
       "      <td>3</td>\n",
       "      <td>Ilmakangas, Miss. Ida Livija</td>\n",
       "      <td>female</td>\n",
       "      <td>adult</td>\n",
       "      <td>middle</td>\n",
       "      <td>small</td>\n",
       "      <td>STON/O2. 3101270</td>\n",
       "      <td>poor</td>\n",
       "      <td>no</td>\n",
       "      <td>S</td>\n",
       "      <td>Miss</td>\n",
       "      <td>28</td>\n",
       "    </tr>\n",
       "    <tr>\n",
       "      <th>19</th>\n",
       "      <td>911</td>\n",
       "      <td>3</td>\n",
       "      <td>Assaf Khalil, Mrs. Mariana (Miriam\")\"</td>\n",
       "      <td>female</td>\n",
       "      <td>adult</td>\n",
       "      <td>small</td>\n",
       "      <td>small</td>\n",
       "      <td>2696</td>\n",
       "      <td>poor</td>\n",
       "      <td>no</td>\n",
       "      <td>C</td>\n",
       "      <td>Mrs</td>\n",
       "      <td>37</td>\n",
       "    </tr>\n",
       "    <tr>\n",
       "      <th>20</th>\n",
       "      <td>912</td>\n",
       "      <td>1</td>\n",
       "      <td>Rothschild, Mr. Martin</td>\n",
       "      <td>male</td>\n",
       "      <td>adult</td>\n",
       "      <td>middle</td>\n",
       "      <td>small</td>\n",
       "      <td>PC 17603</td>\n",
       "      <td>rich</td>\n",
       "      <td>no</td>\n",
       "      <td>C</td>\n",
       "      <td>Mr</td>\n",
       "      <td>22</td>\n",
       "    </tr>\n",
       "    <tr>\n",
       "      <th>21</th>\n",
       "      <td>913</td>\n",
       "      <td>3</td>\n",
       "      <td>Olsen, Master. Artur Karl</td>\n",
       "      <td>male</td>\n",
       "      <td>children</td>\n",
       "      <td>small</td>\n",
       "      <td>middle</td>\n",
       "      <td>C 17368</td>\n",
       "      <td>poor</td>\n",
       "      <td>no</td>\n",
       "      <td>S</td>\n",
       "      <td>Master</td>\n",
       "      <td>25</td>\n",
       "    </tr>\n",
       "    <tr>\n",
       "      <th>22</th>\n",
       "      <td>914</td>\n",
       "      <td>1</td>\n",
       "      <td>Flegenheim, Mrs. Alfred (Antoinette)</td>\n",
       "      <td>female</td>\n",
       "      <td>adult</td>\n",
       "      <td>small</td>\n",
       "      <td>small</td>\n",
       "      <td>PC 17598</td>\n",
       "      <td>rich</td>\n",
       "      <td>no</td>\n",
       "      <td>S</td>\n",
       "      <td>Mrs</td>\n",
       "      <td>36</td>\n",
       "    </tr>\n",
       "    <tr>\n",
       "      <th>23</th>\n",
       "      <td>915</td>\n",
       "      <td>1</td>\n",
       "      <td>Williams, Mr. Richard Norris II</td>\n",
       "      <td>male</td>\n",
       "      <td>adult</td>\n",
       "      <td>small</td>\n",
       "      <td>middle</td>\n",
       "      <td>PC 17597</td>\n",
       "      <td>rich</td>\n",
       "      <td>no</td>\n",
       "      <td>C</td>\n",
       "      <td>Mr</td>\n",
       "      <td>31</td>\n",
       "    </tr>\n",
       "    <tr>\n",
       "      <th>24</th>\n",
       "      <td>916</td>\n",
       "      <td>1</td>\n",
       "      <td>Ryerson, Mrs. Arthur Larned (Emily Maria Borie)</td>\n",
       "      <td>female</td>\n",
       "      <td>adult</td>\n",
       "      <td>middle</td>\n",
       "      <td>middle</td>\n",
       "      <td>PC 17608</td>\n",
       "      <td>rich</td>\n",
       "      <td>yes</td>\n",
       "      <td>C</td>\n",
       "      <td>Mrs</td>\n",
       "      <td>47</td>\n",
       "    </tr>\n",
       "    <tr>\n",
       "      <th>25</th>\n",
       "      <td>917</td>\n",
       "      <td>3</td>\n",
       "      <td>Robins, Mr. Alexander A</td>\n",
       "      <td>male</td>\n",
       "      <td>adult</td>\n",
       "      <td>middle</td>\n",
       "      <td>small</td>\n",
       "      <td>A/5. 3337</td>\n",
       "      <td>rich</td>\n",
       "      <td>no</td>\n",
       "      <td>S</td>\n",
       "      <td>Mr</td>\n",
       "      <td>23</td>\n",
       "    </tr>\n",
       "    <tr>\n",
       "      <th>26</th>\n",
       "      <td>918</td>\n",
       "      <td>1</td>\n",
       "      <td>Ostby, Miss. Helene Ragnhild</td>\n",
       "      <td>female</td>\n",
       "      <td>adult</td>\n",
       "      <td>small</td>\n",
       "      <td>middle</td>\n",
       "      <td>113509</td>\n",
       "      <td>rich</td>\n",
       "      <td>yes</td>\n",
       "      <td>C</td>\n",
       "      <td>Miss</td>\n",
       "      <td>28</td>\n",
       "    </tr>\n",
       "    <tr>\n",
       "      <th>27</th>\n",
       "      <td>919</td>\n",
       "      <td>3</td>\n",
       "      <td>Daher, Mr. Shedid</td>\n",
       "      <td>male</td>\n",
       "      <td>adult</td>\n",
       "      <td>small</td>\n",
       "      <td>small</td>\n",
       "      <td>2698</td>\n",
       "      <td>poor</td>\n",
       "      <td>no</td>\n",
       "      <td>C</td>\n",
       "      <td>Mr</td>\n",
       "      <td>17</td>\n",
       "    </tr>\n",
       "    <tr>\n",
       "      <th>28</th>\n",
       "      <td>920</td>\n",
       "      <td>1</td>\n",
       "      <td>Brady, Mr. John Bertram</td>\n",
       "      <td>male</td>\n",
       "      <td>adult</td>\n",
       "      <td>small</td>\n",
       "      <td>small</td>\n",
       "      <td>113054</td>\n",
       "      <td>rich</td>\n",
       "      <td>yes</td>\n",
       "      <td>S</td>\n",
       "      <td>Mr</td>\n",
       "      <td>23</td>\n",
       "    </tr>\n",
       "    <tr>\n",
       "      <th>29</th>\n",
       "      <td>921</td>\n",
       "      <td>3</td>\n",
       "      <td>Samaan, Mr. Elias</td>\n",
       "      <td>male</td>\n",
       "      <td>adult</td>\n",
       "      <td>middle</td>\n",
       "      <td>small</td>\n",
       "      <td>2662</td>\n",
       "      <td>rich</td>\n",
       "      <td>no</td>\n",
       "      <td>C</td>\n",
       "      <td>Mr</td>\n",
       "      <td>17</td>\n",
       "    </tr>\n",
       "    <tr>\n",
       "      <th>...</th>\n",
       "      <td>...</td>\n",
       "      <td>...</td>\n",
       "      <td>...</td>\n",
       "      <td>...</td>\n",
       "      <td>...</td>\n",
       "      <td>...</td>\n",
       "      <td>...</td>\n",
       "      <td>...</td>\n",
       "      <td>...</td>\n",
       "      <td>...</td>\n",
       "      <td>...</td>\n",
       "      <td>...</td>\n",
       "      <td>...</td>\n",
       "    </tr>\n",
       "    <tr>\n",
       "      <th>388</th>\n",
       "      <td>1280</td>\n",
       "      <td>3</td>\n",
       "      <td>Canavan, Mr. Patrick</td>\n",
       "      <td>male</td>\n",
       "      <td>adult</td>\n",
       "      <td>small</td>\n",
       "      <td>small</td>\n",
       "      <td>364858</td>\n",
       "      <td>poor</td>\n",
       "      <td>no</td>\n",
       "      <td>Q</td>\n",
       "      <td>Mr</td>\n",
       "      <td>20</td>\n",
       "    </tr>\n",
       "    <tr>\n",
       "      <th>389</th>\n",
       "      <td>1281</td>\n",
       "      <td>3</td>\n",
       "      <td>Palsson, Master. Paul Folke</td>\n",
       "      <td>male</td>\n",
       "      <td>children</td>\n",
       "      <td>large</td>\n",
       "      <td>middle</td>\n",
       "      <td>349909</td>\n",
       "      <td>rich</td>\n",
       "      <td>no</td>\n",
       "      <td>S</td>\n",
       "      <td>Master</td>\n",
       "      <td>27</td>\n",
       "    </tr>\n",
       "    <tr>\n",
       "      <th>390</th>\n",
       "      <td>1282</td>\n",
       "      <td>1</td>\n",
       "      <td>Payne, Mr. Vivian Ponsonby</td>\n",
       "      <td>male</td>\n",
       "      <td>adult</td>\n",
       "      <td>small</td>\n",
       "      <td>small</td>\n",
       "      <td>12749</td>\n",
       "      <td>rich</td>\n",
       "      <td>yes</td>\n",
       "      <td>S</td>\n",
       "      <td>Mr</td>\n",
       "      <td>26</td>\n",
       "    </tr>\n",
       "    <tr>\n",
       "      <th>391</th>\n",
       "      <td>1283</td>\n",
       "      <td>1</td>\n",
       "      <td>Lines, Mrs. Ernest H (Elizabeth Lindsey James)</td>\n",
       "      <td>female</td>\n",
       "      <td>adult</td>\n",
       "      <td>small</td>\n",
       "      <td>middle</td>\n",
       "      <td>PC 17592</td>\n",
       "      <td>rich</td>\n",
       "      <td>yes</td>\n",
       "      <td>S</td>\n",
       "      <td>Mrs</td>\n",
       "      <td>46</td>\n",
       "    </tr>\n",
       "    <tr>\n",
       "      <th>392</th>\n",
       "      <td>1284</td>\n",
       "      <td>3</td>\n",
       "      <td>Abbott, Master. Eugene Joseph</td>\n",
       "      <td>male</td>\n",
       "      <td>youth</td>\n",
       "      <td>small</td>\n",
       "      <td>middle</td>\n",
       "      <td>C.A. 2673</td>\n",
       "      <td>rich</td>\n",
       "      <td>no</td>\n",
       "      <td>S</td>\n",
       "      <td>Master</td>\n",
       "      <td>29</td>\n",
       "    </tr>\n",
       "    <tr>\n",
       "      <th>393</th>\n",
       "      <td>1285</td>\n",
       "      <td>2</td>\n",
       "      <td>Gilbert, Mr. William</td>\n",
       "      <td>male</td>\n",
       "      <td>adult</td>\n",
       "      <td>small</td>\n",
       "      <td>small</td>\n",
       "      <td>C.A. 30769</td>\n",
       "      <td>poor</td>\n",
       "      <td>no</td>\n",
       "      <td>S</td>\n",
       "      <td>Mr</td>\n",
       "      <td>20</td>\n",
       "    </tr>\n",
       "    <tr>\n",
       "      <th>394</th>\n",
       "      <td>1286</td>\n",
       "      <td>3</td>\n",
       "      <td>Kink-Heilmann, Mr. Anton</td>\n",
       "      <td>male</td>\n",
       "      <td>adult</td>\n",
       "      <td>large</td>\n",
       "      <td>middle</td>\n",
       "      <td>315153</td>\n",
       "      <td>rich</td>\n",
       "      <td>no</td>\n",
       "      <td>S</td>\n",
       "      <td>Mr</td>\n",
       "      <td>24</td>\n",
       "    </tr>\n",
       "    <tr>\n",
       "      <th>395</th>\n",
       "      <td>1287</td>\n",
       "      <td>1</td>\n",
       "      <td>Smith, Mrs. Lucien Philip (Mary Eloise Hughes)</td>\n",
       "      <td>female</td>\n",
       "      <td>adult</td>\n",
       "      <td>middle</td>\n",
       "      <td>small</td>\n",
       "      <td>13695</td>\n",
       "      <td>rich</td>\n",
       "      <td>yes</td>\n",
       "      <td>S</td>\n",
       "      <td>Mrs</td>\n",
       "      <td>46</td>\n",
       "    </tr>\n",
       "    <tr>\n",
       "      <th>396</th>\n",
       "      <td>1288</td>\n",
       "      <td>3</td>\n",
       "      <td>Colbert, Mr. Patrick</td>\n",
       "      <td>male</td>\n",
       "      <td>adult</td>\n",
       "      <td>small</td>\n",
       "      <td>small</td>\n",
       "      <td>371109</td>\n",
       "      <td>poor</td>\n",
       "      <td>no</td>\n",
       "      <td>Q</td>\n",
       "      <td>Mr</td>\n",
       "      <td>20</td>\n",
       "    </tr>\n",
       "    <tr>\n",
       "      <th>397</th>\n",
       "      <td>1289</td>\n",
       "      <td>1</td>\n",
       "      <td>Frolicher-Stehli, Mrs. Maxmillian (Margaretha ...</td>\n",
       "      <td>female</td>\n",
       "      <td>adult</td>\n",
       "      <td>middle</td>\n",
       "      <td>middle</td>\n",
       "      <td>13567</td>\n",
       "      <td>rich</td>\n",
       "      <td>yes</td>\n",
       "      <td>C</td>\n",
       "      <td>Mrs</td>\n",
       "      <td>63</td>\n",
       "    </tr>\n",
       "    <tr>\n",
       "      <th>398</th>\n",
       "      <td>1290</td>\n",
       "      <td>3</td>\n",
       "      <td>Larsson-Rondberg, Mr. Edvard A</td>\n",
       "      <td>male</td>\n",
       "      <td>adult</td>\n",
       "      <td>small</td>\n",
       "      <td>small</td>\n",
       "      <td>347065</td>\n",
       "      <td>poor</td>\n",
       "      <td>no</td>\n",
       "      <td>S</td>\n",
       "      <td>Mr</td>\n",
       "      <td>30</td>\n",
       "    </tr>\n",
       "    <tr>\n",
       "      <th>399</th>\n",
       "      <td>1291</td>\n",
       "      <td>3</td>\n",
       "      <td>Conlon, Mr. Thomas Henry</td>\n",
       "      <td>male</td>\n",
       "      <td>adult</td>\n",
       "      <td>small</td>\n",
       "      <td>small</td>\n",
       "      <td>21332</td>\n",
       "      <td>poor</td>\n",
       "      <td>no</td>\n",
       "      <td>Q</td>\n",
       "      <td>Mr</td>\n",
       "      <td>24</td>\n",
       "    </tr>\n",
       "    <tr>\n",
       "      <th>400</th>\n",
       "      <td>1292</td>\n",
       "      <td>1</td>\n",
       "      <td>Bonnell, Miss. Caroline</td>\n",
       "      <td>female</td>\n",
       "      <td>adult</td>\n",
       "      <td>small</td>\n",
       "      <td>small</td>\n",
       "      <td>36928</td>\n",
       "      <td>rich</td>\n",
       "      <td>yes</td>\n",
       "      <td>S</td>\n",
       "      <td>Miss</td>\n",
       "      <td>23</td>\n",
       "    </tr>\n",
       "    <tr>\n",
       "      <th>401</th>\n",
       "      <td>1293</td>\n",
       "      <td>2</td>\n",
       "      <td>Gale, Mr. Harry</td>\n",
       "      <td>male</td>\n",
       "      <td>adult</td>\n",
       "      <td>middle</td>\n",
       "      <td>small</td>\n",
       "      <td>28664</td>\n",
       "      <td>rich</td>\n",
       "      <td>no</td>\n",
       "      <td>S</td>\n",
       "      <td>Mr</td>\n",
       "      <td>15</td>\n",
       "    </tr>\n",
       "    <tr>\n",
       "      <th>402</th>\n",
       "      <td>1294</td>\n",
       "      <td>1</td>\n",
       "      <td>Gibson, Miss. Dorothy Winifred</td>\n",
       "      <td>female</td>\n",
       "      <td>adult</td>\n",
       "      <td>small</td>\n",
       "      <td>middle</td>\n",
       "      <td>112378</td>\n",
       "      <td>rich</td>\n",
       "      <td>no</td>\n",
       "      <td>C</td>\n",
       "      <td>Miss</td>\n",
       "      <td>30</td>\n",
       "    </tr>\n",
       "    <tr>\n",
       "      <th>403</th>\n",
       "      <td>1295</td>\n",
       "      <td>1</td>\n",
       "      <td>Carrau, Mr. Jose Pedro</td>\n",
       "      <td>male</td>\n",
       "      <td>youth</td>\n",
       "      <td>small</td>\n",
       "      <td>small</td>\n",
       "      <td>113059</td>\n",
       "      <td>rich</td>\n",
       "      <td>no</td>\n",
       "      <td>S</td>\n",
       "      <td>Mr</td>\n",
       "      <td>22</td>\n",
       "    </tr>\n",
       "    <tr>\n",
       "      <th>404</th>\n",
       "      <td>1296</td>\n",
       "      <td>1</td>\n",
       "      <td>Frauenthal, Mr. Isaac Gerald</td>\n",
       "      <td>male</td>\n",
       "      <td>adult</td>\n",
       "      <td>middle</td>\n",
       "      <td>small</td>\n",
       "      <td>17765</td>\n",
       "      <td>rich</td>\n",
       "      <td>yes</td>\n",
       "      <td>C</td>\n",
       "      <td>Mr</td>\n",
       "      <td>28</td>\n",
       "    </tr>\n",
       "    <tr>\n",
       "      <th>405</th>\n",
       "      <td>1297</td>\n",
       "      <td>2</td>\n",
       "      <td>Nourney, Mr. Alfred (Baron von Drachstedt\")\"</td>\n",
       "      <td>male</td>\n",
       "      <td>adult</td>\n",
       "      <td>small</td>\n",
       "      <td>small</td>\n",
       "      <td>SC/PARIS 2166</td>\n",
       "      <td>poor</td>\n",
       "      <td>yes</td>\n",
       "      <td>C</td>\n",
       "      <td>Mr</td>\n",
       "      <td>44</td>\n",
       "    </tr>\n",
       "    <tr>\n",
       "      <th>406</th>\n",
       "      <td>1298</td>\n",
       "      <td>2</td>\n",
       "      <td>Ware, Mr. William Jeffery</td>\n",
       "      <td>male</td>\n",
       "      <td>adult</td>\n",
       "      <td>middle</td>\n",
       "      <td>small</td>\n",
       "      <td>28666</td>\n",
       "      <td>poor</td>\n",
       "      <td>no</td>\n",
       "      <td>S</td>\n",
       "      <td>Mr</td>\n",
       "      <td>25</td>\n",
       "    </tr>\n",
       "    <tr>\n",
       "      <th>407</th>\n",
       "      <td>1299</td>\n",
       "      <td>1</td>\n",
       "      <td>Widener, Mr. George Dunton</td>\n",
       "      <td>male</td>\n",
       "      <td>adult</td>\n",
       "      <td>middle</td>\n",
       "      <td>middle</td>\n",
       "      <td>113503</td>\n",
       "      <td>rich</td>\n",
       "      <td>yes</td>\n",
       "      <td>C</td>\n",
       "      <td>Mr</td>\n",
       "      <td>26</td>\n",
       "    </tr>\n",
       "    <tr>\n",
       "      <th>408</th>\n",
       "      <td>1300</td>\n",
       "      <td>3</td>\n",
       "      <td>Riordan, Miss. Johanna Hannah\"\"</td>\n",
       "      <td>female</td>\n",
       "      <td>adult</td>\n",
       "      <td>small</td>\n",
       "      <td>small</td>\n",
       "      <td>334915</td>\n",
       "      <td>poor</td>\n",
       "      <td>no</td>\n",
       "      <td>Q</td>\n",
       "      <td>Miss</td>\n",
       "      <td>31</td>\n",
       "    </tr>\n",
       "    <tr>\n",
       "      <th>409</th>\n",
       "      <td>1301</td>\n",
       "      <td>3</td>\n",
       "      <td>Peacock, Miss. Treasteall</td>\n",
       "      <td>female</td>\n",
       "      <td>children</td>\n",
       "      <td>middle</td>\n",
       "      <td>middle</td>\n",
       "      <td>SOTON/O.Q. 3101315</td>\n",
       "      <td>poor</td>\n",
       "      <td>no</td>\n",
       "      <td>S</td>\n",
       "      <td>Miss</td>\n",
       "      <td>25</td>\n",
       "    </tr>\n",
       "    <tr>\n",
       "      <th>410</th>\n",
       "      <td>1302</td>\n",
       "      <td>3</td>\n",
       "      <td>Naughton, Miss. Hannah</td>\n",
       "      <td>female</td>\n",
       "      <td>adult</td>\n",
       "      <td>small</td>\n",
       "      <td>small</td>\n",
       "      <td>365237</td>\n",
       "      <td>poor</td>\n",
       "      <td>no</td>\n",
       "      <td>Q</td>\n",
       "      <td>Miss</td>\n",
       "      <td>22</td>\n",
       "    </tr>\n",
       "    <tr>\n",
       "      <th>411</th>\n",
       "      <td>1303</td>\n",
       "      <td>1</td>\n",
       "      <td>Minahan, Mrs. William Edward (Lillian E Thorpe)</td>\n",
       "      <td>female</td>\n",
       "      <td>adult</td>\n",
       "      <td>middle</td>\n",
       "      <td>small</td>\n",
       "      <td>19928</td>\n",
       "      <td>rich</td>\n",
       "      <td>yes</td>\n",
       "      <td>Q</td>\n",
       "      <td>Mrs</td>\n",
       "      <td>47</td>\n",
       "    </tr>\n",
       "    <tr>\n",
       "      <th>412</th>\n",
       "      <td>1304</td>\n",
       "      <td>3</td>\n",
       "      <td>Henriksson, Miss. Jenny Lovisa</td>\n",
       "      <td>female</td>\n",
       "      <td>adult</td>\n",
       "      <td>small</td>\n",
       "      <td>small</td>\n",
       "      <td>347086</td>\n",
       "      <td>poor</td>\n",
       "      <td>no</td>\n",
       "      <td>S</td>\n",
       "      <td>Miss</td>\n",
       "      <td>30</td>\n",
       "    </tr>\n",
       "    <tr>\n",
       "      <th>413</th>\n",
       "      <td>1305</td>\n",
       "      <td>3</td>\n",
       "      <td>Spector, Mr. Woolf</td>\n",
       "      <td>male</td>\n",
       "      <td>adult</td>\n",
       "      <td>small</td>\n",
       "      <td>small</td>\n",
       "      <td>A.5. 3236</td>\n",
       "      <td>poor</td>\n",
       "      <td>no</td>\n",
       "      <td>S</td>\n",
       "      <td>Mr</td>\n",
       "      <td>18</td>\n",
       "    </tr>\n",
       "    <tr>\n",
       "      <th>414</th>\n",
       "      <td>1306</td>\n",
       "      <td>1</td>\n",
       "      <td>Oliva y Ocana, Dona. Fermina</td>\n",
       "      <td>female</td>\n",
       "      <td>adult</td>\n",
       "      <td>small</td>\n",
       "      <td>small</td>\n",
       "      <td>PC 17758</td>\n",
       "      <td>rich</td>\n",
       "      <td>yes</td>\n",
       "      <td>C</td>\n",
       "      <td>Royalty</td>\n",
       "      <td>28</td>\n",
       "    </tr>\n",
       "    <tr>\n",
       "      <th>415</th>\n",
       "      <td>1307</td>\n",
       "      <td>3</td>\n",
       "      <td>Saether, Mr. Simon Sivertsen</td>\n",
       "      <td>male</td>\n",
       "      <td>adult</td>\n",
       "      <td>small</td>\n",
       "      <td>small</td>\n",
       "      <td>SOTON/O.Q. 3101262</td>\n",
       "      <td>poor</td>\n",
       "      <td>no</td>\n",
       "      <td>S</td>\n",
       "      <td>Mr</td>\n",
       "      <td>28</td>\n",
       "    </tr>\n",
       "    <tr>\n",
       "      <th>416</th>\n",
       "      <td>1308</td>\n",
       "      <td>3</td>\n",
       "      <td>Ware, Mr. Frederick</td>\n",
       "      <td>male</td>\n",
       "      <td>adult</td>\n",
       "      <td>small</td>\n",
       "      <td>small</td>\n",
       "      <td>359309</td>\n",
       "      <td>poor</td>\n",
       "      <td>no</td>\n",
       "      <td>S</td>\n",
       "      <td>Mr</td>\n",
       "      <td>19</td>\n",
       "    </tr>\n",
       "    <tr>\n",
       "      <th>417</th>\n",
       "      <td>1309</td>\n",
       "      <td>3</td>\n",
       "      <td>Peter, Master. Michael J</td>\n",
       "      <td>male</td>\n",
       "      <td>adult</td>\n",
       "      <td>middle</td>\n",
       "      <td>middle</td>\n",
       "      <td>2668</td>\n",
       "      <td>rich</td>\n",
       "      <td>no</td>\n",
       "      <td>C</td>\n",
       "      <td>Master</td>\n",
       "      <td>24</td>\n",
       "    </tr>\n",
       "  </tbody>\n",
       "</table>\n",
       "<p>418 rows × 13 columns</p>\n",
       "</div>"
      ],
      "text/plain": [
       "     PassengerId  Pclass                                               Name  \\\n",
       "0            892       3                                   Kelly, Mr. James   \n",
       "1            893       3                   Wilkes, Mrs. James (Ellen Needs)   \n",
       "2            894       2                          Myles, Mr. Thomas Francis   \n",
       "3            895       3                                   Wirz, Mr. Albert   \n",
       "4            896       3       Hirvonen, Mrs. Alexander (Helga E Lindqvist)   \n",
       "5            897       3                         Svensson, Mr. Johan Cervin   \n",
       "6            898       3                               Connolly, Miss. Kate   \n",
       "7            899       2                       Caldwell, Mr. Albert Francis   \n",
       "8            900       3          Abrahim, Mrs. Joseph (Sophie Halaut Easu)   \n",
       "9            901       3                            Davies, Mr. John Samuel   \n",
       "10           902       3                                   Ilieff, Mr. Ylio   \n",
       "11           903       1                         Jones, Mr. Charles Cresson   \n",
       "12           904       1      Snyder, Mrs. John Pillsbury (Nelle Stevenson)   \n",
       "13           905       2                               Howard, Mr. Benjamin   \n",
       "14           906       1  Chaffee, Mrs. Herbert Fuller (Carrie Constance...   \n",
       "15           907       2      del Carlo, Mrs. Sebastiano (Argenia Genovesi)   \n",
       "16           908       2                                  Keane, Mr. Daniel   \n",
       "17           909       3                                  Assaf, Mr. Gerios   \n",
       "18           910       3                       Ilmakangas, Miss. Ida Livija   \n",
       "19           911       3              Assaf Khalil, Mrs. Mariana (Miriam\")\"   \n",
       "20           912       1                             Rothschild, Mr. Martin   \n",
       "21           913       3                          Olsen, Master. Artur Karl   \n",
       "22           914       1               Flegenheim, Mrs. Alfred (Antoinette)   \n",
       "23           915       1                    Williams, Mr. Richard Norris II   \n",
       "24           916       1    Ryerson, Mrs. Arthur Larned (Emily Maria Borie)   \n",
       "25           917       3                            Robins, Mr. Alexander A   \n",
       "26           918       1                       Ostby, Miss. Helene Ragnhild   \n",
       "27           919       3                                  Daher, Mr. Shedid   \n",
       "28           920       1                            Brady, Mr. John Bertram   \n",
       "29           921       3                                  Samaan, Mr. Elias   \n",
       "..           ...     ...                                                ...   \n",
       "388         1280       3                               Canavan, Mr. Patrick   \n",
       "389         1281       3                        Palsson, Master. Paul Folke   \n",
       "390         1282       1                         Payne, Mr. Vivian Ponsonby   \n",
       "391         1283       1     Lines, Mrs. Ernest H (Elizabeth Lindsey James)   \n",
       "392         1284       3                      Abbott, Master. Eugene Joseph   \n",
       "393         1285       2                               Gilbert, Mr. William   \n",
       "394         1286       3                           Kink-Heilmann, Mr. Anton   \n",
       "395         1287       1     Smith, Mrs. Lucien Philip (Mary Eloise Hughes)   \n",
       "396         1288       3                               Colbert, Mr. Patrick   \n",
       "397         1289       1  Frolicher-Stehli, Mrs. Maxmillian (Margaretha ...   \n",
       "398         1290       3                     Larsson-Rondberg, Mr. Edvard A   \n",
       "399         1291       3                           Conlon, Mr. Thomas Henry   \n",
       "400         1292       1                            Bonnell, Miss. Caroline   \n",
       "401         1293       2                                    Gale, Mr. Harry   \n",
       "402         1294       1                     Gibson, Miss. Dorothy Winifred   \n",
       "403         1295       1                             Carrau, Mr. Jose Pedro   \n",
       "404         1296       1                       Frauenthal, Mr. Isaac Gerald   \n",
       "405         1297       2       Nourney, Mr. Alfred (Baron von Drachstedt\")\"   \n",
       "406         1298       2                          Ware, Mr. William Jeffery   \n",
       "407         1299       1                         Widener, Mr. George Dunton   \n",
       "408         1300       3                    Riordan, Miss. Johanna Hannah\"\"   \n",
       "409         1301       3                          Peacock, Miss. Treasteall   \n",
       "410         1302       3                             Naughton, Miss. Hannah   \n",
       "411         1303       1    Minahan, Mrs. William Edward (Lillian E Thorpe)   \n",
       "412         1304       3                     Henriksson, Miss. Jenny Lovisa   \n",
       "413         1305       3                                 Spector, Mr. Woolf   \n",
       "414         1306       1                       Oliva y Ocana, Dona. Fermina   \n",
       "415         1307       3                       Saether, Mr. Simon Sivertsen   \n",
       "416         1308       3                                Ware, Mr. Frederick   \n",
       "417         1309       3                           Peter, Master. Michael J   \n",
       "\n",
       "        Sex       Age   SibSp   Parch              Ticket  Fare Cabin  \\\n",
       "0      male     adult   small   small              330911  poor    no   \n",
       "1    female     adult  middle   small              363272  poor    no   \n",
       "2      male     adult   small   small              240276  poor    no   \n",
       "3      male     adult   small   small              315154  poor    no   \n",
       "4    female     adult  middle  middle             3101298  poor    no   \n",
       "5      male     youth   small   small                7538  poor    no   \n",
       "6    female     adult   small   small              330972  poor    no   \n",
       "7      male     adult  middle  middle              248738  rich    no   \n",
       "8    female     adult   small   small                2657  poor    no   \n",
       "9      male     adult  middle   small           A/4 48871  rich    no   \n",
       "10     male     adult   small   small              349220  poor    no   \n",
       "11     male     adult   small   small                 694  rich    no   \n",
       "12   female     adult  middle   small               21228  rich   yes   \n",
       "13     male     adult  middle   small               24065  rich    no   \n",
       "14   female     adult  middle   small         W.E.P. 5734  rich   yes   \n",
       "15   female     adult  middle   small       SC/PARIS 2167  rich    no   \n",
       "16     male     adult   small   small              233734  poor    no   \n",
       "17     male     adult   small   small                2692  poor    no   \n",
       "18   female     adult  middle   small    STON/O2. 3101270  poor    no   \n",
       "19   female     adult   small   small                2696  poor    no   \n",
       "20     male     adult  middle   small            PC 17603  rich    no   \n",
       "21     male  children   small  middle             C 17368  poor    no   \n",
       "22   female     adult   small   small            PC 17598  rich    no   \n",
       "23     male     adult   small  middle            PC 17597  rich    no   \n",
       "24   female     adult  middle  middle            PC 17608  rich   yes   \n",
       "25     male     adult  middle   small           A/5. 3337  rich    no   \n",
       "26   female     adult   small  middle              113509  rich   yes   \n",
       "27     male     adult   small   small                2698  poor    no   \n",
       "28     male     adult   small   small              113054  rich   yes   \n",
       "29     male     adult  middle   small                2662  rich    no   \n",
       "..      ...       ...     ...     ...                 ...   ...   ...   \n",
       "388    male     adult   small   small              364858  poor    no   \n",
       "389    male  children   large  middle              349909  rich    no   \n",
       "390    male     adult   small   small               12749  rich   yes   \n",
       "391  female     adult   small  middle            PC 17592  rich   yes   \n",
       "392    male     youth   small  middle           C.A. 2673  rich    no   \n",
       "393    male     adult   small   small          C.A. 30769  poor    no   \n",
       "394    male     adult   large  middle              315153  rich    no   \n",
       "395  female     adult  middle   small               13695  rich   yes   \n",
       "396    male     adult   small   small              371109  poor    no   \n",
       "397  female     adult  middle  middle               13567  rich   yes   \n",
       "398    male     adult   small   small              347065  poor    no   \n",
       "399    male     adult   small   small               21332  poor    no   \n",
       "400  female     adult   small   small               36928  rich   yes   \n",
       "401    male     adult  middle   small               28664  rich    no   \n",
       "402  female     adult   small  middle              112378  rich    no   \n",
       "403    male     youth   small   small              113059  rich    no   \n",
       "404    male     adult  middle   small               17765  rich   yes   \n",
       "405    male     adult   small   small       SC/PARIS 2166  poor   yes   \n",
       "406    male     adult  middle   small               28666  poor    no   \n",
       "407    male     adult  middle  middle              113503  rich   yes   \n",
       "408  female     adult   small   small              334915  poor    no   \n",
       "409  female  children  middle  middle  SOTON/O.Q. 3101315  poor    no   \n",
       "410  female     adult   small   small              365237  poor    no   \n",
       "411  female     adult  middle   small               19928  rich   yes   \n",
       "412  female     adult   small   small              347086  poor    no   \n",
       "413    male     adult   small   small           A.5. 3236  poor    no   \n",
       "414  female     adult   small   small            PC 17758  rich   yes   \n",
       "415    male     adult   small   small  SOTON/O.Q. 3101262  poor    no   \n",
       "416    male     adult   small   small              359309  poor    no   \n",
       "417    male     adult  middle  middle                2668  rich    no   \n",
       "\n",
       "    Embarked    Title  len_Name  \n",
       "0          Q       Mr        16  \n",
       "1          S      Mrs        32  \n",
       "2          Q       Mr        25  \n",
       "3          S       Mr        16  \n",
       "4          S      Mrs        44  \n",
       "5          S       Mr        26  \n",
       "6          Q     Miss        20  \n",
       "7          S       Mr        28  \n",
       "8          C      Mrs        41  \n",
       "9          S       Mr        23  \n",
       "10         S       Mr        16  \n",
       "11         S       Mr        26  \n",
       "12         S      Mrs        45  \n",
       "13         S       Mr        20  \n",
       "14         S      Mrs        55  \n",
       "15         C      Mrs        45  \n",
       "16         Q       Mr        17  \n",
       "17         C       Mr        17  \n",
       "18         S     Miss        28  \n",
       "19         C      Mrs        37  \n",
       "20         C       Mr        22  \n",
       "21         S   Master        25  \n",
       "22         S      Mrs        36  \n",
       "23         C       Mr        31  \n",
       "24         C      Mrs        47  \n",
       "25         S       Mr        23  \n",
       "26         C     Miss        28  \n",
       "27         C       Mr        17  \n",
       "28         S       Mr        23  \n",
       "29         C       Mr        17  \n",
       "..       ...      ...       ...  \n",
       "388        Q       Mr        20  \n",
       "389        S   Master        27  \n",
       "390        S       Mr        26  \n",
       "391        S      Mrs        46  \n",
       "392        S   Master        29  \n",
       "393        S       Mr        20  \n",
       "394        S       Mr        24  \n",
       "395        S      Mrs        46  \n",
       "396        Q       Mr        20  \n",
       "397        C      Mrs        63  \n",
       "398        S       Mr        30  \n",
       "399        Q       Mr        24  \n",
       "400        S     Miss        23  \n",
       "401        S       Mr        15  \n",
       "402        C     Miss        30  \n",
       "403        S       Mr        22  \n",
       "404        C       Mr        28  \n",
       "405        C       Mr        44  \n",
       "406        S       Mr        25  \n",
       "407        C       Mr        26  \n",
       "408        Q     Miss        31  \n",
       "409        S     Miss        25  \n",
       "410        Q     Miss        22  \n",
       "411        Q      Mrs        47  \n",
       "412        S     Miss        30  \n",
       "413        S       Mr        18  \n",
       "414        C  Royalty        28  \n",
       "415        S       Mr        28  \n",
       "416        S       Mr        19  \n",
       "417        C   Master        24  \n",
       "\n",
       "[418 rows x 13 columns]"
      ]
     },
     "metadata": {},
     "output_type": "display_data"
    }
   ],
   "source": [
    "display(testData)"
   ]
  },
  {
   "cell_type": "code",
   "execution_count": 49,
   "metadata": {},
   "outputs": [
    {
     "name": "stdout",
     "output_type": "stream",
     "text": [
      "27 total features after one-hot encoding.\n"
     ]
    }
   ],
   "source": [
    "#delete the same features as training set\n",
    "testData=testData.drop(['PassengerId','Name','Ticket'],axis=1)\n",
    "testData=pd.get_dummies(testData)\n",
    "encoded_test = list(testData.columns)\n",
    "print(\"{} total features after one-hot encoding.\".format(len(encoded_test)))"
   ]
  },
  {
   "cell_type": "code",
   "execution_count": 50,
   "metadata": {},
   "outputs": [],
   "source": [
    "#encoded\n",
    "#encoded_test"
   ]
  },
  {
   "cell_type": "code",
   "execution_count": 51,
   "metadata": {},
   "outputs": [],
   "source": [
    "#\n",
    "from sklearn.model_selection import GridSearchCV\n",
    "from sklearn.metrics import make_scorer\n",
    "from sklearn.metrics import accuracy_score,roc_auc_score\n",
    "from time import time\n",
    "from sklearn.tree import DecisionTreeClassifier\n",
    "from sklearn.svm import SVC\n",
    "from sklearn.ensemble import RandomForestClassifier\n",
    "from sklearn.ensemble import AdaBoostClassifier\n",
    "from sklearn.neighbors import KNeighborsClassifier\n",
    "from xgboost.sklearn import XGBClassifier"
   ]
  },
  {
   "cell_type": "code",
   "execution_count": 52,
   "metadata": {},
   "outputs": [],
   "source": [
    "#define the function to fit the model\n",
    "def fit_model(alg,parameters):\n",
    "    X=features\n",
    "    y=labels  #due to the small size of dataset, we can use the grid search\n",
    "    scorer=make_scorer(roc_auc_score)  #use roc_auc_score as the standard of score\n",
    "    grid = GridSearchCV(alg,parameters,scoring=scorer,cv=5)  #use the grid search and input the parameters\n",
    "    start=time()  #calculate time \n",
    "    grid=grid.fit(X,y)  #training the model\n",
    "    end=time()\n",
    "    t=round(end-start,3)\n",
    "    print(grid.best_params_ ) #output best parameter\n",
    "    print('searching time for {} is {} s'.format(alg.__class__.__name__,t)) #output time\n",
    "    return grid #return to the model we have trained"
   ]
  },
  {
   "cell_type": "code",
   "execution_count": 53,
   "metadata": {},
   "outputs": [],
   "source": [
    "#we can use the decision tree, SVC, Randomforest, AdaBoost, KNeighbors and XGB classification algorithm\n",
    "alg1=DecisionTreeClassifier(random_state=29)\n",
    "alg2=SVC(probability=True,random_state=29)  #to use roc_auc_score as score，we need to set parameter probability=True\n",
    "alg3=RandomForestClassifier(random_state=29)\n",
    "alg4=AdaBoostClassifier(random_state=29)\n",
    "alg5=KNeighborsClassifier(n_jobs=-1)\n",
    "alg6=XGBClassifier(random_state=29,n_jobs=-1)"
   ]
  },
  {
   "cell_type": "code",
   "execution_count": 54,
   "metadata": {},
   "outputs": [],
   "source": [
    "#list the range of the parameter adjustment\n",
    "parameters1={'max_depth':range(1,10),'min_samples_split':range(2,10)}\n",
    "parameters2 = {\"C\":range(1,20), \"gamma\": [0.05,0.1,0.15,0.2,0.25]}\n",
    "parameters3_1 = {'n_estimators':range(10,200,10)}\n",
    "parameters3_2 = {'max_depth':range(1,10),'min_samples_split':range(2,10)}  #the searching space is too large, we separate in two steps to adjust parameters\n",
    "parameters4 = {'n_estimators':range(10,200,10),'learning_rate':[i/10.0 for i in range(5,15)]}\n",
    "parameters5 = {'n_neighbors':range(2,10),'leaf_size':range(10,80,20)  }\n",
    "parameters6_1 = {'n_estimators':range(10,200,10)}\n",
    "parameters6_2 = {'max_depth':range(1,10),'min_child_weight':range(1,10)}\n",
    "parameters6_3 = {'subsample':[i/10.0 for i in range(1,10)], 'colsample_bytree':[i/10.0 for i in range(1,10)]}#the searching space is too large, we separate in three steps to adjust parameters"
   ]
  },
  {
   "cell_type": "code",
   "execution_count": 55,
   "metadata": {},
   "outputs": [
    {
     "name": "stdout",
     "output_type": "stream",
     "text": [
      "{'max_depth': 3, 'min_samples_split': 2}\n",
      "searching time for DecisionTreeClassifier is 3.886 s\n"
     ]
    }
   ],
   "source": [
    "#DecisionTreeClassifier\n",
    "clf1=fit_model(alg1,parameters1)"
   ]
  },
  {
   "cell_type": "code",
   "execution_count": 56,
   "metadata": {},
   "outputs": [
    {
     "name": "stdout",
     "output_type": "stream",
     "text": [
      "{'C': 3, 'gamma': 0.05}\n",
      "searching time for SVC is 147.677 s\n"
     ]
    }
   ],
   "source": [
    "#SVM\n",
    "clf2=fit_model(alg2,parameters2)"
   ]
  },
  {
   "cell_type": "code",
   "execution_count": 57,
   "metadata": {},
   "outputs": [
    {
     "name": "stdout",
     "output_type": "stream",
     "text": [
      "{'n_estimators': 20}\n",
      "searching time for RandomForestClassifier is 24.467 s\n"
     ]
    }
   ],
   "source": [
    "#RandomForest\n",
    "#first, we use the grid search to find n_estimateors \n",
    "clf3_m1=fit_model(alg3,parameters3_1)"
   ]
  },
  {
   "cell_type": "code",
   "execution_count": 58,
   "metadata": {},
   "outputs": [
    {
     "name": "stdout",
     "output_type": "stream",
     "text": [
      "{'max_depth': 5, 'min_samples_split': 9}\n",
      "searching time for RandomForestClassifier is 17.79 s\n"
     ]
    }
   ],
   "source": [
    "#then,we can search the max_depth and min_sample_split\n",
    "alg3=RandomForestClassifier(n_estimators=20)\n",
    "clf3=fit_model(alg3,parameters3_2)"
   ]
  },
  {
   "cell_type": "code",
   "execution_count": 59,
   "metadata": {},
   "outputs": [
    {
     "name": "stdout",
     "output_type": "stream",
     "text": [
      "{'learning_rate': 0.7, 'n_estimators': 30}\n",
      "searching time for AdaBoostClassifier is 265.388 s\n"
     ]
    }
   ],
   "source": [
    "#AdaBoost\n",
    "clf4=fit_model(alg4,parameters4)"
   ]
  },
  {
   "cell_type": "code",
   "execution_count": 60,
   "metadata": {},
   "outputs": [
    {
     "name": "stdout",
     "output_type": "stream",
     "text": [
      "{'leaf_size': 30, 'n_neighbors': 5}\n",
      "searching time for KNeighborsClassifier is 16.429 s\n"
     ]
    }
   ],
   "source": [
    "#KNN\n",
    "clf5=fit_model(alg5,parameters5)"
   ]
  },
  {
   "cell_type": "code",
   "execution_count": 61,
   "metadata": {},
   "outputs": [
    {
     "name": "stdout",
     "output_type": "stream",
     "text": [
      "{'n_estimators': 190}\n",
      "searching time for XGBClassifier is 22.057 s\n"
     ]
    }
   ],
   "source": [
    "#Xgboost\n",
    "#first parameter adjustment\n",
    "clf6_m1=fit_model(alg6,parameters6_1)"
   ]
  },
  {
   "cell_type": "code",
   "execution_count": 62,
   "metadata": {},
   "outputs": [
    {
     "name": "stdout",
     "output_type": "stream",
     "text": [
      "{'max_depth': 4, 'min_child_weight': 6}\n",
      "searching time for XGBClassifier is 139.847 s\n"
     ]
    }
   ],
   "source": [
    "#second parameter adjustment\n",
    "alg6=XGBClassifier(n_estimators=190)\n",
    "clf6_m2=fit_model(alg6,parameters6_2)"
   ]
  },
  {
   "cell_type": "code",
   "execution_count": 63,
   "metadata": {},
   "outputs": [
    {
     "name": "stdout",
     "output_type": "stream",
     "text": [
      "{'colsample_bytree': 0.2, 'subsample': 0.9}\n",
      "searching time for XGBClassifier is 84.178 s\n"
     ]
    }
   ],
   "source": [
    "#third parameter adjustment\n",
    "alg6=XGBClassifier(n_estimators=190,max_depth=4,min_child_weight=6)\n",
    "clf6=fit_model(alg6,parameters6_3)"
   ]
  },
  {
   "cell_type": "code",
   "execution_count": 64,
   "metadata": {},
   "outputs": [],
   "source": [
    "#we define a function to save the results of prediction in csv file\n",
    "testData_1 = pd.read_csv('test.csv')\n",
    "Passengerid = testData_1.loc[:,'PassengerId']\n",
    "def saveCsv(clf,i):\n",
    "    pred=clf.predict(testData)\n",
    "    sub=pd.DataFrame({ 'PassengerId':Passengerid , 'Survived': pred })\n",
    "    sub.to_csv(\"res_tan_{}.csv\".format(i), index=False)"
   ]
  },
  {
   "cell_type": "code",
   "execution_count": 65,
   "metadata": {},
   "outputs": [],
   "source": [
    "#use saveCsv function to finish six prediction\n",
    "i=1\n",
    "for clf in [clf1,clf2,clf3,clf4,clf5,clf6]:\n",
    "    saveCsv(clf,i)\n",
    "    i=i+1"
   ]
  },
  {
   "cell_type": "code",
   "execution_count": 66,
   "metadata": {},
   "outputs": [],
   "source": [
    "#define the majority vote function\n",
    "def majorVote(i):\n",
    "    vote=0\n",
    "    for clf in [clf1,clf2,clf3,clf4,clf5]:\n",
    "        pred=clf.predict(testData[i:i+1])\n",
    "        vote=vote+pred\n",
    "    if vote>2:\n",
    "        result=1\n",
    "    else:\n",
    "        result=0\n",
    "    return result    "
   ]
  },
  {
   "cell_type": "code",
   "execution_count": 67,
   "metadata": {
    "scrolled": true
   },
   "outputs": [],
   "source": [
    "#use the majorVote function, get the results\n",
    "L= range(testData.shape[0])\n",
    "pred=list(map(majorVote,L))\n",
    "sub=pd.DataFrame({ 'PassengerId': Passengerid, 'Survived': pred })\n",
    "sub.to_csv(\"res_tan_7.csv\", index=False)"
   ]
  },
  {
   "cell_type": "code",
   "execution_count": 68,
   "metadata": {},
   "outputs": [
    {
     "data": {
      "text/html": [
       "<div>\n",
       "<style scoped>\n",
       "    .dataframe tbody tr th:only-of-type {\n",
       "        vertical-align: middle;\n",
       "    }\n",
       "\n",
       "    .dataframe tbody tr th {\n",
       "        vertical-align: top;\n",
       "    }\n",
       "\n",
       "    .dataframe thead th {\n",
       "        text-align: right;\n",
       "    }\n",
       "</style>\n",
       "<table border=\"1\" class=\"dataframe\">\n",
       "  <thead>\n",
       "    <tr style=\"text-align: right;\">\n",
       "      <th></th>\n",
       "      <th>PassengerId</th>\n",
       "      <th>Survived</th>\n",
       "    </tr>\n",
       "  </thead>\n",
       "  <tbody>\n",
       "    <tr>\n",
       "      <th>0</th>\n",
       "      <td>892</td>\n",
       "      <td>0</td>\n",
       "    </tr>\n",
       "    <tr>\n",
       "      <th>1</th>\n",
       "      <td>893</td>\n",
       "      <td>1</td>\n",
       "    </tr>\n",
       "    <tr>\n",
       "      <th>2</th>\n",
       "      <td>894</td>\n",
       "      <td>0</td>\n",
       "    </tr>\n",
       "    <tr>\n",
       "      <th>3</th>\n",
       "      <td>895</td>\n",
       "      <td>0</td>\n",
       "    </tr>\n",
       "    <tr>\n",
       "      <th>4</th>\n",
       "      <td>896</td>\n",
       "      <td>1</td>\n",
       "    </tr>\n",
       "  </tbody>\n",
       "</table>\n",
       "</div>"
      ],
      "text/plain": [
       "   PassengerId  Survived\n",
       "0          892         0\n",
       "1          893         1\n",
       "2          894         0\n",
       "3          895         0\n",
       "4          896         1"
      ]
     },
     "execution_count": 68,
     "metadata": {},
     "output_type": "execute_result"
    }
   ],
   "source": [
    "sub.head()"
   ]
  },
  {
   "cell_type": "code",
   "execution_count": null,
   "metadata": {},
   "outputs": [],
   "source": []
  }
 ],
 "metadata": {
  "kernelspec": {
   "display_name": "Python 3",
   "language": "python",
   "name": "python3"
  },
  "language_info": {
   "codemirror_mode": {
    "name": "ipython",
    "version": 3
   },
   "file_extension": ".py",
   "mimetype": "text/x-python",
   "name": "python",
   "nbconvert_exporter": "python",
   "pygments_lexer": "ipython3",
   "version": "3.7.1"
  }
 },
 "nbformat": 4,
 "nbformat_minor": 2
}
